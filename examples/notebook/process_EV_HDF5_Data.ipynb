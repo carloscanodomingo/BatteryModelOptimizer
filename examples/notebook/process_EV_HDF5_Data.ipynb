{
 "cells": [
  {
   "cell_type": "code",
   "execution_count": null,
   "id": "0",
   "metadata": {},
   "outputs": [],
   "source": [
    "import h5py\n",
    "import pandas as pd\n",
    "from core.EV_Data import read_battery_cycle_data\n",
    "# Example usage\n",
    "hdf5_path = '/home/ccanodom/data/EV_battery/battery.h5'  # Adjust the path to your HDF5 file\n",
    "batteryID = 4  # Example battery ID\n",
    "cycleNumber = 10  # Example cycle number\n",
    "\n",
    "df = read_battery_cycle_data(hdf5_path, batteryID, cycleNumber)\n",
    "\n",
    "from core.Wrap_PyBamm import read_cycle_from_hdf5\n",
    "\n"
   ]
  },
  {
   "cell_type": "code",
   "execution_count": null,
   "id": "1",
   "metadata": {},
   "outputs": [],
   "source": [
    "df = read_cycle_from_hdf5(20, \"decay_exp_3\", \"here.h5\")\n",
    "df.C"
   ]
  },
  {
   "cell_type": "code",
   "execution_count": null,
   "id": "2",
   "metadata": {},
   "outputs": [],
   "source": [
    "pb_path = \"/home/ccanodom/data/sweep_data/_new_current_profile_sweep_10_5.csv\"\n",
    "pb_path = \"/home/ccanodom/data/sweep_data/_new_current_profile_sweep_0_-5.csv\""
   ]
  },
  {
   "cell_type": "code",
   "execution_count": null,
   "id": "3",
   "metadata": {},
   "outputs": [],
   "source": [
    "df = pd.read_csv(pb_path, engine='python')\n",
    "df"
   ]
  },
  {
   "cell_type": "code",
   "execution_count": null,
   "id": "4",
   "metadata": {},
   "outputs": [],
   "source": [
    "df.describe()\n"
   ]
  },
  {
   "cell_type": "code",
   "execution_count": null,
   "id": "5",
   "metadata": {},
   "outputs": [],
   "source": [
    "sum(df.Cycle > 1.0)"
   ]
  },
  {
   "cell_type": "code",
   "execution_count": null,
   "id": "6",
   "metadata": {},
   "outputs": [],
   "source": [
    "df2 = df[df.Cycle == 1.0]"
   ]
  },
  {
   "cell_type": "code",
   "execution_count": null,
   "id": "7",
   "metadata": {},
   "outputs": [],
   "source": [
    "df[df.Cycle == 10.0].V.plot()"
   ]
  },
  {
   "cell_type": "code",
   "execution_count": null,
   "id": "8",
   "metadata": {},
   "outputs": [],
   "source": []
  }
 ],
 "metadata": {
  "kernelspec": {
   "display_name": "Python 3 (ipykernel)",
   "language": "python",
   "name": "python3"
  },
  "language_info": {
   "codemirror_mode": {
    "name": "ipython",
    "version": 3
   },
   "file_extension": ".py",
   "mimetype": "text/x-python",
   "name": "python",
   "nbconvert_exporter": "python",
   "pygments_lexer": "ipython3",
   "version": "3.11.5"
  }
 },
 "nbformat": 4,
 "nbformat_minor": 5
}

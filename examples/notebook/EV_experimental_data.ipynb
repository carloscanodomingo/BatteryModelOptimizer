{
 "cells": [
  {
   "cell_type": "code",
   "execution_count": null,
   "id": "0",
   "metadata": {},
   "outputs": [],
   "source": [
    "import numpy as np\n",
    "import pandas as pd\n",
    "from scipy.io import loadmat\n",
    "from core import EV_Data, Wrap_PyBamm_Output\n",
    "%load_ext autoreload\n",
    "%autoreload 2\n",
    "# Load the .mat file (assuming 'data_path' is defined and points to your .mat file)\n",
    "%reload_ext autoreload"
   ]
  },
  {
   "cell_type": "code",
   "execution_count": null,
   "id": "1",
   "metadata": {},
   "outputs": [],
   "source": [
    "import glob\n",
    "import numpy as np\n",
    "import pandas as pd\n",
    "reduce_by = 1\n",
    "version = \"W04\"\n",
    "base_data_path=\"/home/ccanodom/data/EV_battery/\" + version + \"/\" + version + \"_\" \n",
    "values = [\"C01\",\"C03\",\"C07\"]\n",
    "def reduce_by(reduce_by):\n",
    "    # Assuming df is your DataFrame\n",
    "    # Step 1: Create a group identifier for each set of 20 rows\n",
    "    group_identifier = np.arange(len(df)) // reduce_by\n",
    "\n",
    "    # Step 2 & 3: Group by this identifier and calculate the mean for each group\n",
    "    df_mean = df.groupby(group_identifier).mean()\n",
    "\n",
    "    # If your DataFrame has a MultiIndex and you want to keep the non-numeric levels,\n",
    "    # you may need to reset the index first, or handle them separately depending on your specific case.\n",
    "\n",
    "    df_mean.reset_index(drop=True, inplace=True)\n",
    "    df_mean[\"Step\"] = (np.abs(df_mean[\"Step\"]))\n",
    "    return df_mean\n",
    "\n",
    "\n",
    "list_df = []\n",
    "for path in values:\n",
    "    data_path = base_data_path + path + \".mat\"\n",
    "    print(f\"Start with data in path {data_path}\")\n",
    "    df = EV_Data.get_data_EV(data_path)\n",
    "    df_mean = reduce_by(30)\n",
    "    \n",
    "    list_df.append(df_mean)\n",
    "df = pd.concat(list_df)\n",
    "df = EV_Data.include_cycle_number(df)\n",
    "df = EV_Data.map_index(df)"
   ]
  },
  {
   "cell_type": "code",
   "execution_count": null,
   "id": "2",
   "metadata": {},
   "outputs": [],
   "source": [
    "import matplotlib.pyplot as plt\n",
    "import bokeh.io\n",
    "%load_ext autoreload\n",
    "%autoreload 2\n",
    "# this is here only for completeness to clarify where\n",
    "# the methods are nested (you probably already imported this earlier)\n",
    "\n",
    "\n",
    "bokeh.io.reset_output()\n",
    "bokeh.io.output_notebook()\n",
    "    "
   ]
  },
  {
   "cell_type": "code",
   "execution_count": null,
   "id": "3",
   "metadata": {},
   "outputs": [],
   "source": [
    "Wrap_PyBamm_Output.plot_variable_vs_time(df, \"V\",6)"
   ]
  },
  {
   "cell_type": "code",
   "execution_count": null,
   "id": "4",
   "metadata": {
    "tags": []
   },
   "outputs": [],
   "source": [
    "Wrap_PyBamm_Output.plot_variable_vs_time(df, \"C\",3)"
   ]
  },
  {
   "cell_type": "code",
   "execution_count": null,
   "id": "5",
   "metadata": {
    "tags": []
   },
   "outputs": [],
   "source": [
    "Wrap_PyBamm_Output.plot_variable_vs_capacity(df, step_index=5, variable_name='V', capacity_type='discharge')"
   ]
  },
  {
   "cell_type": "code",
   "execution_count": null,
   "id": "6",
   "metadata": {
    "tags": []
   },
   "outputs": [],
   "source": [
    "from core import Wrap_PyBamm_Output\n",
    "Wrap_PyBamm_Output.plot_variable_vs_capacity(df, step_index=6, variable_name='V', capacity_type='discharge')\n"
   ]
  },
  {
   "cell_type": "code",
   "execution_count": null,
   "id": "7",
   "metadata": {
    "tags": []
   },
   "outputs": [],
   "source": [
    "Wrap_PyBamm_Output.plot_variable_vs_capacity(df, step_index=5, variable_name='V', capacity_type='discharge')"
   ]
  },
  {
   "cell_type": "code",
   "execution_count": null,
   "id": "8",
   "metadata": {
    "tags": []
   },
   "outputs": [],
   "source": [
    "#plot_variable_vs_capacity(df, step_index=9, variable_name='Voltage', capacity_type='charge')\n",
    "from core import Wrap_PyBamm_Output\n",
    "Wrap_PyBamm_Output.plot_variable_vs_capacity(df, step_index=2, variable_name='V', capacity_type='charge')"
   ]
  },
  {
   "cell_type": "code",
   "execution_count": null,
   "id": "9",
   "metadata": {
    "tags": []
   },
   "outputs": [],
   "source": [
    "import matplotlib.pyplot as plt\n",
    "import numpy as np\n",
    "import matplotlib.cm as cm\n",
    "import matplotlib.colors as mcolors\n",
    "\n",
    "# Assuming 'df' is your DataFrame and has been properly filtered for the specific conditions\n",
    "# and 'Cycle' and 'C_rate' columns exist as described.\n",
    "\n",
    "# Filter the DataFrame for the specific step, if needed\n",
    "filtered_df = df[df[\"Step_Index\"] == 14]\n",
    "\n",
    "# Group the filtered DataFrame by 'Cycle'\n",
    "grouped_by_cycle = filtered_df.groupby('Cycle_Number')\n",
    "\n",
    "# Define the colormap\n",
    "cmap = cm.get_cmap('viridis')\n",
    "\n",
    "# Get the total number of cycles to normalize the cycle number to [0, 1]\n",
    "num_cycles = len(grouped_by_cycle)\n",
    "norm = mcolors.Normalize(vmin=0, vmax=num_cycles)\n",
    "\n",
    "# Create a plot\n",
    "# Create a plot and specify axes\n",
    "fig, ax = plt.subplots(figsize=(12, 8))\n",
    "discharge_capacity_diff = np.zeros(num_cycles)\n",
    "cycles = np.zeros(num_cycles)\n",
    "\n",
    "# Iterate over each cycle to calculate the difference in 'C_rate' from beginning to end\n",
    "for i, (cycle_number, group) in enumerate(grouped_by_cycle):\n",
    "    D_cap = group['Time'].to_numpy()\n",
    "    c_max = D_cap.max() # Assuming the last value represents the end of the cycle\n",
    "    c_min = D_cap.min()   # Assuming the first value represents the start of the cycle\n",
    "    \n",
    "    V = group['Voltage'].to_numpy()\n",
    "    v_max = V.max() # Assuming the last value represents the end of the cycle\n",
    "    v_min = V.min()    # Assuming the first value represents the start of the cycle\n",
    "    \n",
    "    discharge_capacity_diff[i] = (np.diff(V) / np.diff(D_cap)).mean() #(v_max - v_min) / ((c_max - c_min) / 3600 )# Calculate the difference\n",
    "    discharge_capacity_diff[i] = (v_max - v_min) / ((c_max - c_min) / 3600 )# Calculate the difference\n",
    "    \n",
    "    cycles[i] = cycle_number\n",
    "\n",
    "# Plot each cycle's discharge capacity difference\n",
    "# Note: The color normalization line is unnecessary for scatter plots where each point is the same color,\n",
    "# but it's useful if you want to map the cycle numbers to colors on a gradient.\n",
    "colors = cmap(norm(cycles))\n",
    "#plt.scatter(cycles, discharge_capacity_diff, c=colors)\n",
    "sc = ax.scatter(cycles, discharge_capacity_diff, c=colors)\n",
    "\n",
    "plt.title('Discharge Capacity Difference by Cycle')\n",
    "plt.xlabel('Cycle Number')\n",
    "plt.ylabel('Discharge Capacity Difference')\n",
    "# Create a colorbar with the correct axes\n",
    "cbar = plt.colorbar(sc, ax=ax, label='Normalized Cycle Number')\n",
    "cbar.set_label('Cycle Number', rotation=270, labelpad=15)\n",
    "\n",
    "plt.show()\n"
   ]
  },
  {
   "cell_type": "code",
   "execution_count": null,
   "id": "10",
   "metadata": {
    "tags": []
   },
   "outputs": [],
   "source": [
    "Wrap_PyBamm_Output.plot_av_at_by_cycle(df,3, Wrap_PyBamm_Output.TypeAgregation.deltaC)"
   ]
  },
  {
   "cell_type": "code",
   "execution_count": null,
   "id": "11",
   "metadata": {},
   "outputs": [],
   "source": [
    "# Create a plot\n",
    "plt.figure(figsize=(10, 6))\n",
    "\n",
    "for name, group in grouped:\n",
    "    plt.plot(group['Discharge_Capacity'], group['Voltage'], label=f'Cycle {name}')\n",
    "\n",
    "plt.title('Voltage vs. Discharge Capacity for USSD Discharging by Cycle')\n",
    "plt.xlabel('Discharge Capacity (Ah)')\n",
    "plt.ylabel('Voltage (V)')\n",
    "plt.legend()  # Display a legend to identify each cycle\n",
    "plt.show()"
   ]
  },
  {
   "cell_type": "code",
   "execution_count": null,
   "id": "12",
   "metadata": {},
   "outputs": [],
   "source": [
    "# Initialize a cycle number array with zeros, same length as step_index\n",
    "cycle_numbers = np.zeros_like(step_index)\n",
    "\n",
    "# Start with cycle number 1\n",
    "current_cycle = 1\n",
    "\n",
    "# Loop through the step index array to identify changes indicating a new cycle\n",
    "for i in range(1, len(step_index)):\n",
    "    # If the step index decreases, it indicates a new cycle has started\n",
    "    if step_index[i] < step_index[i-1]:\n",
    "        current_cycle += 1\n",
    "    cycle_numbers[i] = current_cycle\n",
    "\n",
    "# Checking the first few cycle numbers to verify our approach\n",
    "cycle_numbers[:10], np.unique(cycle_numbers)"
   ]
  },
  {
   "cell_type": "code",
   "execution_count": null,
   "id": "13",
   "metadata": {
    "tags": []
   },
   "outputs": [],
   "source": [
    "Wrap_PyBamm_Output.plot_variable_vs_time_by_cycle(df, \"V\", 1)"
   ]
  },
  {
   "cell_type": "code",
   "execution_count": null,
   "id": "14",
   "metadata": {
    "tags": []
   },
   "outputs": [],
   "source": [
    "Wrap_PyBamm_Output.plot_voltage_current_by_cycle(df, 43)"
   ]
  },
  {
   "cell_type": "code",
   "execution_count": null,
   "id": "15",
   "metadata": {},
   "outputs": [],
   "source": []
  }
 ],
 "metadata": {
  "kernelspec": {
   "display_name": "bms",
   "language": "python",
   "name": "bms"
  },
  "language_info": {
   "codemirror_mode": {
    "name": "ipython",
    "version": 3
   },
   "file_extension": ".py",
   "mimetype": "text/x-python",
   "name": "python",
   "nbconvert_exporter": "python",
   "pygments_lexer": "ipython3",
   "version": "3.9.18"
  }
 },
 "nbformat": 4,
 "nbformat_minor": 5
}

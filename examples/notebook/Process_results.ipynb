{
 "cells": [
  {
   "cell_type": "code",
   "execution_count": null,
   "id": "0",
   "metadata": {},
   "outputs": [],
   "source": [
    "import numpy as np\n",
    "import pandas as pd\n",
    "from scipy.io import loadmat\n",
    "from core import EV_Data\n",
    "%load_ext autoreload\n",
    "%autoreload 2\n",
    "# Load the .mat file (assuming 'data_path' is defined and points to your .mat file)\n",
    "%reload_ext autoreload"
   ]
  },
  {
   "cell_type": "code",
   "execution_count": null,
   "id": "1",
   "metadata": {
    "tags": []
   },
   "outputs": [],
   "source": [
    "path1 = \"/home/ccanodom/data/PyBamm/testing.csv\"\n",
    "path2 = \"test_degradation.csv\"\n",
    "path3 = \"test_degradation2.csv\"\n",
    "path4 = \"test_degradation3.csv\"\n",
    "path5 = \"/home/ccanodom/scratch/testing_benchmark.csv\"\n",
    "df = pd.read_csv(path5)\n"
   ]
  },
  {
   "cell_type": "code",
   "execution_count": null,
   "id": "2",
   "metadata": {
    "tags": []
   },
   "outputs": [],
   "source": [
    "df.columns"
   ]
  },
  {
   "cell_type": "code",
   "execution_count": null,
   "id": "3",
   "metadata": {},
   "outputs": [],
   "source": [
    "df[\"Cycle\"].tail(300)"
   ]
  },
  {
   "cell_type": "code",
   "execution_count": null,
   "id": "4",
   "metadata": {},
   "outputs": [],
   "source": [
    "import plotly.express as px\n",
    "df_filter = df[df[\"Cycle\"] == 100.0]\n",
    "\n",
    "px.line(df_filter, x=f\"Time\", y=f\"V\", color=\"Step\",height=900)"
   ]
  },
  {
   "cell_type": "code",
   "execution_count": null,
   "id": "5",
   "metadata": {
    "tags": []
   },
   "outputs": [],
   "source": [
    "df = df[(df[\"Time\"] > 20) & (df[\"Time\"] < 980)]"
   ]
  },
  {
   "cell_type": "code",
   "execution_count": null,
   "id": "6",
   "metadata": {
    "tags": []
   },
   "outputs": [],
   "source": [
    "df.plot(x = \"Time\", y = [\"D_cap\"], subplots = True)"
   ]
  },
  {
   "cell_type": "code",
   "execution_count": null,
   "id": "7",
   "metadata": {
    "tags": []
   },
   "outputs": [],
   "source": [
    "df.plot(x = \"Time\", y = [\"V\", \"SoC\", \"Step\", \"Cycle\", \"D_cap\"], subplots = True)"
   ]
  },
  {
   "cell_type": "code",
   "execution_count": null,
   "id": "8",
   "metadata": {
    "tags": []
   },
   "outputs": [],
   "source": [
    "df.plot(x = \"Time\", y = [\"V\", \"SoC\", \"Step\", \"C\"], subplots = True, xlim = [100, 120])"
   ]
  },
  {
   "cell_type": "code",
   "execution_count": null,
   "id": "9",
   "metadata": {
    "tags": []
   },
   "outputs": [],
   "source": [
    "filtered_df = df[df[\"Step\"] == 5]"
   ]
  },
  {
   "cell_type": "code",
   "execution_count": null,
   "id": "10",
   "metadata": {
    "tags": []
   },
   "outputs": [],
   "source": [
    "filtered_df.plot(x = \"Time\", y = [\"V\", \"SoC\", \"Step\"], subplots = True, xlim = [100, 120])"
   ]
  },
  {
   "cell_type": "code",
   "execution_count": null,
   "id": "11",
   "metadata": {},
   "outputs": [],
   "source": []
  },
  {
   "cell_type": "code",
   "execution_count": null,
   "id": "12",
   "metadata": {
    "tags": []
   },
   "outputs": [],
   "source": [
    "import matplotlib.pyplot as plt\n",
    "filtered_df = df[df[\"Step\"] == 5]\n",
    "plt.scatter(filtered_df['SoC'], filtered_df['VoC'], c=filtered_df['Time'], alpha = 0.9, s = 0.3)\n",
    "# Add labels and title\n",
    "plt.title('V vs SoC Step 5')  # Plot Title\n",
    "plt.xlabel('SoC (%)')  # X-axis Label\n",
    "plt.ylabel('Voltage (V)')  # Y-axis Label\n",
    "# Display the plot\n",
    "plt.colorbar()  # Show color scale\n",
    "plt.show()"
   ]
  },
  {
   "cell_type": "code",
   "execution_count": null,
   "id": "13",
   "metadata": {
    "tags": []
   },
   "outputs": [],
   "source": [
    "import matplotlib.pyplot as plt\n",
    "import matplotlib.cm as cm\n",
    "import matplotlib.colors as mcolors\n",
    "\n",
    "# Assuming df is already filtered for the USSD discharging phase\n",
    "# Group the DataFrame by 'Cycle_Number' for plotting\n",
    "filtered_df = df[df[\"Step\"] == 2]\n",
    "\n",
    "grouped_by_cycle = filtered_df.groupby('Cycle')\n",
    "\n",
    "\n",
    "\n",
    "# Assuming step_7_df and grouped_by_cycle are defined as before\n",
    "# Define the Greys colormap\n",
    "cmap = cm.get_cmap('Reds')\n",
    "\n",
    "# Get the total number of cycles to normalize the cycle number to [0, 1]\n",
    "num_cycles = len(grouped_by_cycle)\n",
    "norm = mcolors.Normalize(vmin=0, vmax=num_cycles)\n",
    "\n",
    "# Create a plot\n",
    "plt.figure(figsize=(12, 8))\n",
    "\n",
    "# Plot Voltage vs. Time for each cycle\n",
    "for cycle_number, group in grouped_by_cycle:\n",
    "    # Reset index to access the 'Time' column\n",
    "    group = group.reset_index()\n",
    "    # Adjust time so that each cycle's Step 7 starts at 0\n",
    "    adjusted_time = group['Time'] - group['Time'].min()\n",
    "    # Normalize the cycle_number for color selection\n",
    "    color = cmap(norm(cycle_number))\n",
    "    plt.plot(adjusted_time, group['V'], label=f'Cycle {cycle_number}', color=color, linewidth=0.1)\n",
    "\n",
    "plt.title('Voltage vs. Time for Step 9 by Cycle')\n",
    "plt.xlabel('Time (s)')\n",
    "plt.ylabel('Voltage (V)')\n",
    "plt.show()"
   ]
  },
  {
   "cell_type": "code",
   "execution_count": null,
   "id": "14",
   "metadata": {
    "tags": []
   },
   "outputs": [],
   "source": [
    "import matplotlib.pyplot as plt\n",
    "import matplotlib.cm as cm\n",
    "import matplotlib.colors as mcolors\n",
    "\n",
    "# Assuming df is already filtered for the USSD discharging phase\n",
    "# Group the DataFrame by 'Cycle_Number' for plotting\n",
    "filtered_df = df[df[\"Step\"] == 5]\n",
    "\n",
    "grouped_by_cycle = filtered_df.groupby('Cycle')\n",
    "\n",
    "\n",
    "\n",
    "\n",
    "# Define the colormap\n",
    "cmap = cm.get_cmap('viridis')\n",
    "\n",
    "# Get the total number of cycles to normalize the cycle number to [0, 1]\n",
    "num_cycles = len(grouped_by_cycle)\n",
    "norm = mcolors.Normalize(vmin=0, vmax=num_cycles)\n",
    "\n",
    "# Create a plot\n",
    "# Create a plot and specify axes\n",
    "fig, ax = plt.subplots(figsize=(12, 8))\n",
    "\n",
    "discharge_capacity = np.zeros(num_cycles)\n",
    "cycle = np.zeros(num_cycles)\n",
    "# Plot Voltage vs. Time for each cycle\n",
    "for i, (cycle_number, group) in enumerate(grouped_by_cycle):\n",
    "    D_cap = group['C_rate'].to_numpy()\n",
    "    c_max = D_cap.max() # Assuming the last value represents the end of the cycle\n",
    "    c_min = D_cap.min()   # Assuming the first value represents the start of the cycle\n",
    "    \n",
    "    V = group['V'].to_numpy()\n",
    "    v_max = V.max() # Assuming the last value represents the end of the cycle\n",
    "    v_min = V.min()    # Assuming the first value represents the start of the cycle\n",
    "    \n",
    "    discharge_capacity[i] = c_max  - c_min#(-np.diff(np.abs(V)) / np.diff(D_cap)).mean() #(v_max - v_min) / ((c_max - c_min) / 3600 )# Calculate the difference\n",
    "    #discharge_capacity[i] = (v_max - v_min) / ((c_max - c_min)  )# Calculate the difference\n",
    "    cycle[i] = cycle_number\n",
    "    \"\"\"\n",
    "    D_cap = group['C_rate'].to_numpy()\n",
    "    v_max = D_cap[-1]\n",
    "    v_min = D_cap[0]\n",
    "    #print(f\"CMAX: {v_max} CMIN {v_min}\")\n",
    "    discharge_capacity[i] = v_min -  v_max \n",
    "    cycle[i] = cycle_number\n",
    "    # Normalize the cycle_number for color selection\n",
    "    \"\"\"\n",
    "colors = cmap(norm(cycle))\n",
    "sc = plt.scatter(cycle, discharge_capacity, c=colors)\n",
    "# Create a colorbar with the correct axes\n",
    "cbar = plt.colorbar(sc, ax=ax, label='Normalized Cycle Number')\n",
    "cbar.set_label('Cycle Number', rotation=270, labelpad=15)\n",
    "\n",
    "plt.title('Diff(V)  / Diff(T) by cycle USSD')\n",
    "plt.xlabel('cycle')\n",
    "plt.ylabel('Diff(V)  / Diff(T)')\n",
    "plt.show()"
   ]
  },
  {
   "cell_type": "code",
   "execution_count": null,
   "id": "15",
   "metadata": {
    "tags": []
   },
   "outputs": [],
   "source": [
    "from core import Wrap_PyBamm_Output\n",
    "Wrap_PyBamm_Output.plot_av_at_by_cycle(df, 5).show()"
   ]
  },
  {
   "cell_type": "code",
   "execution_count": null,
   "id": "16",
   "metadata": {
    "tags": []
   },
   "outputs": [],
   "source": [
    "import matplotlib.pyplot as plt\n",
    "filtered_df = df[df[\"Step\"] == 4]\n",
    "plt.scatter(df['SoC'], df['VoC'], c=df['Time'], alpha = 0.9, s = 0.1)\n",
    "# Add labels and title\n",
    "plt.title('V vs SoC Step 3')  # Plot Title\n",
    "plt.xlabel('SoC (%)')  # X-axis Label\n",
    "plt.ylabel('Voltage (V)')  # Y-axis Label\n",
    "# Display the plot\n",
    "plt.colorbar()  # Show color scale\n",
    "plt.show()"
   ]
  },
  {
   "cell_type": "code",
   "execution_count": null,
   "id": "17",
   "metadata": {},
   "outputs": [],
   "source": [
    "import glob\n",
    "import numpy as np\n",
    "import pandas as pd\n",
    "\n",
    "reduce_by = 1\n",
    "version = \"W10\"\n",
    "base_data_path=\"/home/ccanodom/data/EV_battery/\" + version + \"/\" + version + \"_\" \n",
    "values = [\"C02\",\"C04\",\"C13\"]\n",
    "def reduce_by(reduce_by):\n",
    "    # Assuming df is your DataFrame\n",
    "    # Step 1: Create a group identifier for each set of 20 rows\n",
    "    group_identifier = np.arange(len(df)) // reduce_by\n",
    "\n",
    "    # Step 2 & 3: Group by this identifier and calculate the mean for each group\n",
    "    df_mean = df.groupby(group_identifier).mean()\n",
    "\n",
    "    # If your DataFrame has a MultiIndex and you want to keep the non-numeric levels,\n",
    "    # you may need to reset the index first, or handle them separately depending on your specific case.\n",
    "\n",
    "    df_mean.reset_index(drop=True, inplace=True)\n",
    "    return df_mean\n",
    "\n",
    "\n",
    "list_df = []\n",
    "for path in values:\n",
    "    data_path = base_data_path + path + \".mat\"\n",
    "    print(f\"Start with data in path {data_path}\")\n",
    "    df = EV_Data.get_data_EV(data_path)\n",
    "    df_mean = reduce_by(30)\n",
    "    \n",
    "    list_df.append(df_mean)\n",
    "df = pd.concat(list_df)\n",
    "df = EV_Data.include_cycle_number(df)"
   ]
  },
  {
   "cell_type": "code",
   "execution_count": null,
   "id": "18",
   "metadata": {},
   "outputs": [],
   "source": [
    "# Assuming df_adjusted is your DataFrame and has 'Step_Index' as a column\n",
    "step_index_counts = df.reset_index()['Step_Index'].value_counts()\n",
    "\n",
    "# Sorting the index to ensure the counts are displayed in order of the step index\n",
    "step_index_counts = step_index_counts.sort_index()\n",
    "\n",
    "# Display the counts\n",
    "print(step_index_counts)"
   ]
  },
  {
   "cell_type": "code",
   "execution_count": null,
   "id": "19",
   "metadata": {},
   "outputs": [],
   "source": [
    "df_mean.plot()"
   ]
  },
  {
   "cell_type": "code",
   "execution_count": null,
   "id": "20",
   "metadata": {},
   "outputs": [],
   "source": [
    "import matplotlib.pyplot as plt\n",
    "import matplotlib.cm as cm\n",
    "import matplotlib.colors as mcolors\n",
    "df_discharge = df.xs(14, level='Step_Index')\n",
    "# Group by 'Cycle_Number' if plotting for all cycles\n",
    "grouped = df_discharge.groupby('Cycle_Number')\n",
    "# Define the Greys colormap\n",
    "cmap = cm.get_cmap('Reds')\n",
    "\n",
    "# Get the total number of cycles to normalize the cycle number to [0, 1]\n",
    "num_cycles = len(grouped)\n",
    "norm = mcolors.Normalize(vmin=0, vmax=num_cycles)\n",
    "# Plotting\n",
    "plt.figure(figsize=(12, 8))\n",
    "\n",
    "for cycle, group in grouped:\n",
    "\n",
    "    time = group.index.get_level_values('Time')\n",
    "    adjusted_time = time - time.min()\n",
    "    color = cmap(norm(cycle))\n",
    "    plt.plot(adjusted_time, group[\"Voltage\"].diff()/adjusted_time.diff(), label=f'Cycle {cycle}', color=color, linewidth=0.1)\n",
    "    plt.title(\"Values\")\n",
    "plt.xlabel(\"Time [s]\")\n",
    "plt.ylabel(\"Voltage\")\n",
    "plt.grid(True)\n",
    "plt.show()"
   ]
  },
  {
   "cell_type": "code",
   "execution_count": null,
   "id": "21",
   "metadata": {},
   "outputs": [],
   "source": [
    "# Example: Assuming USSD discharging corresponds to a specific range of Step_Index\n",
    "# Adjust the step_index_range to match the actual USSD discharging step indices\n",
    "ussd_discharging_step_index_range = (5, 9)  # This is an example range; adjust as necessary\n",
    "\n",
    "# Filter the DataFrame for USSD discharging phase\n",
    "ussd_discharge_df = df[(df.index.get_level_values('Step_Index') >= ussd_discharging_step_index_range[0]) &\n",
    "                       (df.index.get_level_values('Step_Index') <= ussd_discharging_step_index_range[1])]\n",
    "\n",
    "# Plot Voltage vs. Discharge Capacity for the filtered USSD discharging data\n",
    "ussd_discharge_df.reset_index().plot(x='Discharge_Capacity', y='Voltage', kind='scatter', title='Voltage vs. Discharge Capacity (USSD Discharging)')\n",
    "plt.xlabel('Discharge Capacity (Ah)')\n",
    "plt.ylabel('Voltage (V)')\n",
    "plt.show()"
   ]
  },
  {
   "cell_type": "code",
   "execution_count": null,
   "id": "22",
   "metadata": {},
   "outputs": [],
   "source": [
    "import matplotlib.pyplot as plt\n",
    "import bokeh.io\n",
    "%load_ext autoreload\n",
    "%autoreload 2\n",
    "# this is here only for completeness to clarify where\n",
    "# the methods are nested (you probably already imported this earlier)\n",
    "\n",
    "\n",
    "bokeh.io.reset_output()\n",
    "bokeh.io.output_notebook()\n",
    "    "
   ]
  },
  {
   "cell_type": "code",
   "execution_count": null,
   "id": "23",
   "metadata": {},
   "outputs": [],
   "source": [
    "\n",
    "print(f\"Before mean: {len(step_7_df)}. After {len(step_7_df.rolling(100).mean())}\")\n",
    "\n",
    "import numpy as np\n",
    "import pandas as pd\n",
    "\n",
    "# Assuming df is your DataFrame\n",
    "# Step 1: Create a group identifier for each set of 20 rows\n",
    "group_identifier = np.arange(len(df)) // 20\n",
    "\n",
    "# Step 2 & 3: Group by this identifier and calculate the mean for each group\n",
    "df_mean = df.groupby(group_identifier).mean()\n",
    "\n",
    "# If your DataFrame has a MultiIndex and you want to keep the non-numeric levels,\n",
    "# you may need to reset the index first, or handle them separately depending on your specific case.\n",
    "\n",
    "df_mean.reset_index(drop=True, inplace=True)\n",
    "\n",
    "# Display the first few rows of the downsampled DataFrame\n",
    "print(df_mean.head())"
   ]
  },
  {
   "cell_type": "code",
   "execution_count": null,
   "id": "24",
   "metadata": {},
   "outputs": [],
   "source": [
    "import matplotlib.pyplot as plt\n",
    "import matplotlib.cm as cm\n",
    "import matplotlib.colors as mcolors\n",
    "\n",
    "# Assuming df is already filtered for the USSD discharging phase\n",
    "# Group the DataFrame by 'Cycle_Number' for plotting\n",
    "\n",
    "grouped = df.groupby('Cycle_Number')\n",
    "\n",
    "# Filter the DataFrame for Step_Index 7\n",
    "step_7_df = df[df.index.get_level_values('Step_Index') == 9]\n",
    "\n",
    "# Group the filtered DataFrame by 'Cycle_Number' for plotting\n",
    "\n",
    "grouped_by_cycle = step_7_df.groupby('Cycle_Number')\n",
    "\n",
    "\n",
    "\n",
    "# Assuming step_7_df and grouped_by_cycle are defined as before\n",
    "# Define the Greys colormap\n",
    "cmap = cm.get_cmap('Reds')\n",
    "\n",
    "# Get the total number of cycles to normalize the cycle number to [0, 1]\n",
    "num_cycles = len(grouped_by_cycle)\n",
    "norm = mcolors.Normalize(vmin=0, vmax=num_cycles)\n",
    "\n",
    "# Create a plot\n",
    "plt.figure(figsize=(12, 8))\n",
    "\n",
    "# Plot Voltage vs. Time for each cycle\n",
    "for cycle_number, group in grouped_by_cycle:\n",
    "    # Reset index to access the 'Time' column\n",
    "    group = group.reset_index()\n",
    "    # Adjust time so that each cycle's Step 7 starts at 0\n",
    "    adjusted_time = group['Time'] - group['Time'].min()\n",
    "    # Normalize the cycle_number for color selection\n",
    "    color = cmap(norm(cycle_number))\n",
    "    plt.plot(adjusted_time, group['Voltage'].rolling(100).mean(), label=f'Cycle {cycle_number}', color=color, linewidth=0.1)\n",
    "\n",
    "plt.title('Voltage vs. Time for Step 9 by Cycle')\n",
    "plt.xlabel('Time (s)')\n",
    "plt.ylabel('Voltage (V)')\n",
    "plt.show()"
   ]
  },
  {
   "cell_type": "code",
   "execution_count": null,
   "id": "25",
   "metadata": {},
   "outputs": [],
   "source": [
    "from core import EV_Data\n",
    "EV_Data.plot_voltage_vs_capacity(df, 14, \"Discharge\").plot()"
   ]
  },
  {
   "cell_type": "code",
   "execution_count": null,
   "id": "26",
   "metadata": {},
   "outputs": [],
   "source": [
    "from core import EV_Data\n",
    "EV_Data.plot_voltage_vs_capacity(df, 13, \"Discharge\").plot()"
   ]
  },
  {
   "cell_type": "code",
   "execution_count": null,
   "id": "27",
   "metadata": {},
   "outputs": [],
   "source": [
    "EV_Data.plot_capacity_vs_time(df, 13, \"discharge\",3).plot()"
   ]
  },
  {
   "cell_type": "code",
   "execution_count": null,
   "id": "28",
   "metadata": {},
   "outputs": [],
   "source": [
    "plot = EV_Data.plot_soc_vs_time_for_step(df, 4.8,2)"
   ]
  },
  {
   "cell_type": "code",
   "execution_count": null,
   "id": "29",
   "metadata": {},
   "outputs": [],
   "source": [
    "plot.lenged()\n",
    "plot.show()"
   ]
  },
  {
   "cell_type": "code",
   "execution_count": null,
   "id": "30",
   "metadata": {},
   "outputs": [],
   "source": [
    "df[\"Charge_Capacity\"].max() "
   ]
  },
  {
   "cell_type": "code",
   "execution_count": null,
   "id": "31",
   "metadata": {},
   "outputs": [],
   "source": [
    "df[\"Discharge_Capacity\"].max() "
   ]
  },
  {
   "cell_type": "code",
   "execution_count": null,
   "id": "32",
   "metadata": {
    "tags": []
   },
   "outputs": [],
   "source": []
  },
  {
   "cell_type": "code",
   "execution_count": null,
   "id": "33",
   "metadata": {},
   "outputs": [],
   "source": [
    "# Create a plot\n",
    "plt.figure(figsize=(10, 6))\n",
    "\n",
    "for name, group in grouped:\n",
    "    plt.plot(group['Discharge_Capacity'], group['Voltage'], label=f'Cycle {name}')\n",
    "\n",
    "plt.title('Voltage vs. Discharge Capacity for USSD Discharging by Cycle')\n",
    "plt.xlabel('Discharge Capacity (Ah)')\n",
    "plt.ylabel('Voltage (V)')\n",
    "plt.legend()  # Display a legend to identify each cycle\n",
    "plt.show()"
   ]
  },
  {
   "cell_type": "code",
   "execution_count": null,
   "id": "34",
   "metadata": {},
   "outputs": [],
   "source": [
    "import matplotlib.pyplot as plt\n",
    "\n",
    "# Extracting the specific arrays from the data\n",
    "time = df.index.get_level_values(0).to_numpy()\n",
    "charge_capacity = df['Charge_Capacity'].squeeze()\n",
    "discharge_capacity = df['Discharge_Capacity'].squeeze()\n",
    "\n",
    "# Plotting\n",
    "plt.figure(figsize=(12, 6))\n",
    "\n",
    "plt.plot(time, charge_capacity, label='Charge Capacity', color='blue')\n",
    "plt.plot(time, discharge_capacity, label='Discharge Capacity', color='red')\n",
    "\n",
    "plt.title('Charge/Discharge Capacity Over Time')\n",
    "plt.xlabel('Time (s)')\n",
    "plt.ylabel('Capacity (Ah)') \n",
    "plt.legend()\n",
    "plt.grid(True)\n",
    "\n",
    "plt.show()\n"
   ]
  },
  {
   "cell_type": "code",
   "execution_count": null,
   "id": "35",
   "metadata": {},
   "outputs": [],
   "source": [
    "pd.DataFrame(step_index).plot()"
   ]
  },
  {
   "cell_type": "code",
   "execution_count": null,
   "id": "36",
   "metadata": {},
   "outputs": [],
   "source": [
    "# Initialize a cycle number array with zeros, same length as step_index\n",
    "cycle_numbers = np.zeros_like(step_index)\n",
    "\n",
    "# Start with cycle number 1\n",
    "current_cycle = 1\n",
    "\n",
    "# Loop through the step index array to identify changes indicating a new cycle\n",
    "for i in range(1, len(step_index)):\n",
    "    # If the step index decreases, it indicates a new cycle has started\n",
    "    if step_index[i] < step_index[i-1]:\n",
    "        current_cycle += 1\n",
    "    cycle_numbers[i] = current_cycle\n",
    "\n",
    "# Checking the first few cycle numbers to verify our approach\n",
    "cycle_numbers[:10], np.unique(cycle_numbers)"
   ]
  },
  {
   "cell_type": "code",
   "execution_count": null,
   "id": "37",
   "metadata": {},
   "outputs": [],
   "source": [
    "import numpy as np\n",
    "\n",
    "# Extract the step index data\n",
    "step_index = data['Step_Index_full_vec_M1_NMC25degC'].squeeze()\n",
    "voltage = data['V_full_vec_M1_NMC25degC'].squeeze()\n",
    "\n",
    "# Find unique cycle indices to determine the first and last cycles\n",
    "unique_cycles = np.unique(cycle_numbers)\n",
    "first_cycle_index = unique_cycles[1]\n",
    "last_cycle_index = unique_cycles[-1]"
   ]
  },
  {
   "cell_type": "code",
   "execution_count": null,
   "id": "38",
   "metadata": {},
   "outputs": [],
   "source": [
    "# Identifying indices for the first and last cycle\n",
    "first_cycle_indices = np.where(cycle_numbers == first_cycle_index)[0]\n",
    "last_cycle_indices = np.where(cycle_numbers == last_cycle_index)[0]\n",
    "\n",
    "# Extracting data for the first cycle\n",
    "voltage_first_cycle = voltage[first_cycle_indices]\n",
    "charge_capacity_first_cycle = charge_capacity[first_cycle_indices]\n",
    "\n",
    "# Extracting data for the last cycle\n",
    "voltage_last_cycle = voltage[last_cycle_indices]\n",
    "charge_capacity_last_cycle = charge_capacity[last_cycle_indices]\n",
    "\n",
    "# Plotting\n",
    "fig, axs = plt.subplots(1, 2, figsize=(18, 6))\n",
    "\n",
    "# First cycle plot\n",
    "axs[0].plot(charge_capacity_first_cycle, voltage_first_cycle, label='First Cycle', color='blue')\n",
    "axs[0].set_title('Voltage vs. Capacity (First Cycle)')\n",
    "axs[0].set_xlabel('Capacity (Ah)')\n",
    "axs[0].set_ylabel('Voltage (V)')\n",
    "axs[0].grid(True)\n",
    "axs[0].legend()\n",
    "\n",
    "# Last cycle plot\n",
    "axs[1].plot(charge_capacity_last_cycle, voltage_last_cycle, label='Last Cycle', color='red')\n",
    "axs[1].set_title('Voltage vs. Capacity (Last Cycle)')\n",
    "axs[1].set_xlabel('Capacity (Ah)')\n",
    "axs[1].set_ylabel('Voltage (V)')\n",
    "axs[1].grid(True)\n",
    "axs[1].legend()\n",
    "\n",
    "plt.tight_layout()\n",
    "plt.show()"
   ]
  },
  {
   "cell_type": "code",
   "execution_count": null,
   "id": "39",
   "metadata": {},
   "outputs": [],
   "source": [
    "pd.DataFrame(cycle_numbers).plot()"
   ]
  },
  {
   "cell_type": "code",
   "execution_count": null,
   "id": "40",
   "metadata": {},
   "outputs": [],
   "source": [
    "# Extracting discharge capacity data\n",
    "discharge_capacity = data['dis_cap_full_vec_M1_NMC25degC'].squeeze()\n",
    "\n",
    "# Identifying indices for the third and the last cycle\n",
    "third_cycle_indices = np.where(cycle_numbers == 3)[0]\n",
    "last_cycle_indices = np.where(cycle_numbers == np.max(cycle_numbers))[0]\n",
    "\n",
    "# Extracting data for the third cycle\n",
    "voltage_third_cycle = voltage[third_cycle_indices]\n",
    "discharge_capacity_third_cycle = discharge_capacity[third_cycle_indices]\n",
    "\n",
    "# Extracting data for the last cycle\n",
    "voltage_last_cycle = voltage[last_cycle_indices]\n",
    "discharge_capacity_last_cycle = discharge_capacity[last_cycle_indices]\n",
    "\n",
    "# Plotting\n",
    "fig, axs = plt.subplots(1, 2, figsize=(18, 6))\n",
    "\n",
    "# Third cycle plot\n",
    "axs[0].plot(discharge_capacity_third_cycle, voltage_third_cycle, label='Third Cycle', color='blue')\n",
    "axs[0].set_title('Voltage vs. Discharge Capacity (Third Cycle)')\n",
    "axs[0].set_xlabel('Discharge Capacity (Ah)')\n",
    "axs[0].set_ylabel('Voltage (V)')\n",
    "axs[0].grid(True)\n",
    "axs[0].legend()\n",
    "\n",
    "# Last cycle plot\n",
    "axs[1].plot(discharge_capacity_last_cycle, voltage_last_cycle, label='Last Cycle', color='red')\n",
    "axs[1].set_title('Voltage vs. Discharge Capacity (Last Cycle)')\n",
    "axs[1].set_xlabel('Discharge Capacity (Ah)')\n",
    "axs[1].set_ylabel('Voltage (V)')\n",
    "axs[1].grid(True)\n",
    "axs[1].legend()\n",
    "\n",
    "plt.tight_layout()\n",
    "plt.show()"
   ]
  },
  {
   "cell_type": "code",
   "execution_count": null,
   "id": "41",
   "metadata": {},
   "outputs": [],
   "source": [
    "import matplotlib.pyplot as plt\n",
    "\n",
    "# Filter the DataFrame for cycle 4\n",
    "cycle_4_df = df.xs(1, level='Cycle_Number')\n",
    "\n",
    "# Separate the data for plotting\n",
    "time = cycle_4_df.reset_index()['Time']\n",
    "voltage = cycle_4_df['Voltage']\n",
    "step_index = cycle_4_df.reset_index()['Step_Index']\n",
    "\n",
    "# Create the plot\n",
    "fig, ax1 = plt.subplots(figsize=(12, 6))\n",
    "\n",
    "# Plot Voltage on the primary y-axis\n",
    "color = 'tab:red'\n",
    "ax1.set_xlabel('Time (s)')\n",
    "ax1.set_ylabel('Voltage (V)', color=color)\n",
    "ax1.plot(time, voltage, color=color)\n",
    "ax1.tick_params(axis='y', labelcolor=color)\n",
    "\n",
    "# Create a secondary y-axis for the Step Index\n",
    "ax2 = ax1.twinx()  \n",
    "color = 'tab:blue'\n",
    "ax2.set_ylabel('Step Index', color=color)  \n",
    "ax2.plot(time, step_index, color=color)\n",
    "ax2.tick_params(axis='y', labelcolor=color)\n",
    "\n",
    "# Add a title and show the plot\n",
    "plt.title('Cycle 4: Voltage and Step Index vs. Time')\n",
    "plt.show()\n"
   ]
  },
  {
   "cell_type": "code",
   "execution_count": null,
   "id": "42",
   "metadata": {
    "tags": []
   },
   "outputs": [],
   "source": [
    "import matplotlib.pyplot as plt\n",
    "\n",
    "# Filter the DataFrame for cycle 4\n",
    "cycle_4_df = df.xs(1, level='Cycle_Number')\n",
    "\n",
    "# Separate the data for plotting\n",
    "time = cycle_4_df.reset_index()['Time']\n",
    "voltage = cycle_4_df['Voltage']\n",
    "step_index = cycle_4_df['Current']\n",
    "\n",
    "# Create the plot\n",
    "fig, ax1 = plt.subplots(figsize=(12, 6))\n",
    "\n",
    "# Plot Voltage on the primary y-axis\n",
    "color = 'tab:red'\n",
    "ax1.set_xlabel('Time (s)')\n",
    "ax1.set_ylabel('Voltage (V)', color=color)\n",
    "ax1.plot(time, voltage, color=color)\n",
    "ax1.tick_params(axis='y', labelcolor=color)\n",
    "\n",
    "# Create a secondary y-axis for the Step Index\n",
    "ax2 = ax1.twinx()  \n",
    "color = 'tab:green'\n",
    "ax2.set_ylabel('Current (A)', color=color)  \n",
    "ax2.plot(time, step_index, color=color)\n",
    "ax2.tick_params(axis='y', labelcolor=color)\n",
    "\n",
    "# Add a title and show the plot\n",
    "plt.title('Cycle 4: Voltage and Step Index vs. Time')\n",
    "plt.show()"
   ]
  },
  {
   "cell_type": "code",
   "execution_count": null,
   "id": "43",
   "metadata": {},
   "outputs": [],
   "source": []
  }
 ],
 "metadata": {
  "kernelspec": {
   "display_name": "bms",
   "language": "python",
   "name": "bms"
  },
  "language_info": {
   "codemirror_mode": {
    "name": "ipython",
    "version": 3
   },
   "file_extension": ".py",
   "mimetype": "text/x-python",
   "name": "python",
   "nbconvert_exporter": "python",
   "pygments_lexer": "ipython3",
   "version": "3.9.18"
  }
 },
 "nbformat": 4,
 "nbformat_minor": 5
}

{
 "cells": [
  {
   "cell_type": "code",
   "execution_count": null,
   "id": "0",
   "metadata": {},
   "outputs": [],
   "source": [
    "from core import Wrap_PyBamm\n",
    "%load_ext autoreload\n",
    "%autoreload 2"
   ]
  },
  {
   "cell_type": "code",
   "execution_count": null,
   "id": "1",
   "metadata": {},
   "outputs": [],
   "source": [
    "path = \"here.h5\"\n",
    "datapath = \"/home/ccanodom/data/EV_battery/battery.h5\""
   ]
  },
  {
   "cell_type": "code",
   "execution_count": null,
   "id": "2",
   "metadata": {},
   "outputs": [],
   "source": [
    "res = Wrap_PyBamm.run_iterative(20, datapath, path,12)"
   ]
  },
  {
   "cell_type": "code",
   "execution_count": null,
   "id": "3",
   "metadata": {},
   "outputs": [],
   "source": [
    "res = Wrap_PyBamm.run_iterative(20, datapath, path,12)"
   ]
  },
  {
   "cell_type": "code",
   "execution_count": null,
   "id": "4",
   "metadata": {},
   "outputs": [],
   "source": [
    "res"
   ]
  },
  {
   "cell_type": "code",
   "execution_count": null,
   "id": "5",
   "metadata": {},
   "outputs": [],
   "source": [
    "(df_experimenta, dict_df_PB) = Wrap_PyBamm.run_iterative(20, datapath, path,3)"
   ]
  },
  {
   "cell_type": "markdown",
   "id": "6",
   "metadata": {},
   "source": [
    "### dict_df_PB.pop("
   ]
  },
  {
   "cell_type": "code",
   "execution_count": null,
   "id": "7",
   "metadata": {},
   "outputs": [],
   "source": [
    "get_metrics(BatteryIDEV.W10, datapath,cycle_number= 5, solution=solution)"
   ]
  },
  {
   "cell_type": "code",
   "execution_count": null,
   "id": "8",
   "metadata": {},
   "outputs": [],
   "source": [
    "relative_time = solution['Time [h]'].entries - np.min(solution['Time [h]'].entries )\n",
    "C =  -1 * solution['Current [A]'].entries\n",
    "V = solution['Battery voltage [V]'].entries\n",
    "data = solution.get_data_dict(None)\n",
    "Cycle = data[\"Cycle\"] \n",
    "Step = data['Step'][-len(Cycle):]"
   ]
  },
  {
   "cell_type": "code",
   "execution_count": null,
   "id": "9",
   "metadata": {},
   "outputs": [],
   "source": [
    "cycle_dataframes = {}\n",
    "cycles = np.unique(Cycle)\n",
    "cycles = cycles[cycles != 0.0]\n",
    "# Loop over each unique cycle number\n",
    "for cycle_number in cycles:\n",
    "    # Find the indices for the current cycle number\n",
    "    indices = np.where(Cycle == cycle_number)[0]\n",
    "    \n",
    "    # Extract the data for the current cycle\n",
    "    cycle_relative_time = relative_time[indices] - np.min(relative_time[indices] )\n",
    "    cycle_C = C[indices]\n",
    "    cycle_V = V[indices]\n",
    "    cycle_Step = Step[indices] \n",
    "    \n",
    "    # Create a dataframe for the current cycle\n",
    "    cycle_df = pd.DataFrame({\n",
    "        'relative_time': cycle_relative_time,\n",
    "        'C': cycle_C,\n",
    "        'V': cycle_V,\n",
    "        'Step': cycle_Step\n",
    "    })\n",
    "    \n",
    "    # Add the dataframe to our dictionary\n",
    "    cycle_dataframes[cycle_number] = cycle_df"
   ]
  },
  {
   "cell_type": "code",
   "execution_count": null,
   "id": "10",
   "metadata": {},
   "outputs": [],
   "source": [
    "for cycle_index, df_simulated in dict_df_PB.items():\n",
    "        print(cycle_index)\n",
    "        print(df_simulated)\n",
    "        results +=  calc_error(df_experimental, df_simulated, 1, \"C\")\n",
    "        results += calc_error(df_experimental, df_simulated, 2, \"V\")\n",
    "        results += calc_error(df_experimental, df_simulated, 3, \"C\")\n",
    "        results += calc_error(df_experimental, df_simulated, 4, \"V\")\n"
   ]
  },
  {
   "cell_type": "code",
   "execution_count": null,
   "id": "11",
   "metadata": {},
   "outputs": [],
   "source": [
    "solution\n",
    "import pandas as pd\n",
    "import numpy as np\n",
    "relative_time = solution['Time [h]'].entries - np.min(solution['Time [h]'].entries )\n",
    "C =  -1 * solution['Current [A]'].entries\n",
    "V = solution['Battery voltage [V]'].entries\n",
    "data = solution.get_data_dict(None)\n",
    "Cycle = data[\"Cycle\"] \n",
    "Cycle = Cycle[Cycle != 0.0]\n",
    "Step = data['Step'][-len(Cycle):]\n",
    "\n",
    "cycle_dataframes = {}\n",
    "\n",
    "# Loop over each unique cycle number\n",
    "for cycle_number in np.unique(Cycle):\n",
    "    # Find the indices for the current cycle number\n",
    "    indices = np.where(Cycle == cycle_number)[0]\n",
    "    \n",
    "    # Extract the data for the current cycle\n",
    "    cycle_relative_time = relative_time[indices]\n",
    "    cycle_C = C[indices]\n",
    "    cycle_V = V[indices]\n",
    "    cycle_Step = Step[indices] if len(Step) == len(Cycle) else [None] * len(indices)  # Adjust based on Step data availability\n",
    "    \n",
    "    # Create a dataframe for the current cycle\n",
    "    cycle_df = pd.DataFrame({\n",
    "        'relative_time': cycle_relative_time,\n",
    "        'C': cycle_C,\n",
    "        'V': cycle_V,\n",
    "        'Step': cycle_Step\n",
    "    })\n",
    "    \n",
    "    # Add the dataframe to our dictionary\n",
    "    cycle_dataframes[cycle_number] = cycle_df\n"
   ]
  },
  {
   "cell_type": "code",
   "execution_count": null,
   "id": "12",
   "metadata": {},
   "outputs": [],
   "source": [
    "df_experimental = get_df_experimental(BatteryIDEV.W10, datapath, 5)"
   ]
  },
  {
   "cell_type": "code",
   "execution_count": null,
   "id": "13",
   "metadata": {},
   "outputs": [],
   "source": [
    "from databases.EVExperiment import *\n",
    "dict_df_PB = get_df_simulated(solution)\n",
    "results = 0.0 #(df_experimental, dict_df_PB)\n",
    "for cycle_index, df_simulated in dict_df_PB.items():\n",
    "    print(cycle_index)\n",
    "    results +=  calc_error(df_experimental, df_simulated, 1, \"C\")\n",
    "    results += calc_error(df_experimental, df_simulated, 2, \"V\")\n",
    "    results += calc_error(df_experimental, df_simulated, 3, \"C\")\n",
    "    results += calc_error(df_experimental, df_simulated, 4, \"V\")\n",
    "results"
   ]
  },
  {
   "cell_type": "code",
   "execution_count": null,
   "id": "14",
   "metadata": {},
   "outputs": [],
   "source": [
    "from databases import EVExperiment\n",
    "from databases.EVExperiment import * \n",
    "df_simulated = cycle_dataframes[1.0]\n",
    "df_experimental = EVExperiment.get_df_experimental(EVExperiment.BatteryIDEV.W10, datapath, 4)\n",
    "battery_id = EVExperiment.BatteryIDEV.W10\n",
    "path = datapath\n",
    "cycle_number = 5\n"
   ]
  },
  {
   "cell_type": "code",
   "execution_count": null,
   "id": "15",
   "metadata": {},
   "outputs": [],
   "source": [
    "df_experimental = get_df_experimental(battery_id, path, cycle_number)\n",
    "results = 0.0\n",
    "dict_df_PB = get_df_simulated(solution)\n",
    "for cycle_index, df_simulated in dict_df_PB.items():\n",
    "    print(cycle_index)\n",
    "    results +=  calc_error(df_experimental, df_simulated, 1, \"C\")\n",
    "    results += calc_error(df_experimental, df_simulated, 2, \"V\")\n",
    "    results += calc_error(df_experimental, df_simulated, 3, \"C\")\n",
    "    results += calc_error(df_experimental, df_simulated, 4, \"V\")\n",
    "\n",
    " "
   ]
  },
  {
   "cell_type": "code",
   "execution_count": null,
   "id": "16",
   "metadata": {},
   "outputs": [],
   "source": [
    "parameter_values = pybamm.ParameterValues(\"OKane2022\")\n",
    "parameter_values"
   ]
  },
  {
   "cell_type": "code",
   "execution_count": null,
   "id": "17",
   "metadata": {},
   "outputs": [],
   "source": [
    "string_id = \"decay\"\n",
    "cycle = 10.0"
   ]
  },
  {
   "cell_type": "code",
   "execution_count": null,
   "id": "18",
   "metadata": {},
   "outputs": [],
   "source": [
    "f\"/{string_id}_Cycle{int(cycle):04d}\""
   ]
  },
  {
   "cell_type": "code",
   "execution_count": null,
   "id": "19",
   "metadata": {},
   "outputs": [],
   "source": [
    "import h5py\n",
    "import pandas as pd"
   ]
  },
  {
   "cell_type": "code",
   "execution_count": null,
   "id": "20",
   "metadata": {},
   "outputs": [],
   "source": [
    "datapath = \"/home/ccanodom/data/EV_battery/battery.h5\"\n",
    "from databases import EVExperiment\n",
    "battery_id = EVExperiment.BatteryIDEV.W04\n",
    "EVExperiment.read_dataframe(battery_id, datapath, 10)\n",
    "pd.read_hdf(\"here.h5\", )"
   ]
  },
  {
   "cell_type": "code",
   "execution_count": null,
   "id": "21",
   "metadata": {},
   "outputs": [],
   "source": [
    "with h5py.File(\"here.h5\", 'r') as file:\n",
    "    for i in file.keys():\n",
    "        print(i)\n",
    "df = pd.read_hdf(\"here.h5\", \"decay_exp_3_Cycle0001\")"
   ]
  },
  {
   "cell_type": "code",
   "execution_count": null,
   "id": "22",
   "metadata": {},
   "outputs": [],
   "source": [
    "df = pd.read_hdf(\"here.h5\", key = \"decay_exp_3_Cycle0001\")"
   ]
  },
  {
   "cell_type": "code",
   "execution_count": null,
   "id": "23",
   "metadata": {},
   "outputs": [],
   "source": [
    "df[\"relative_time\"] = df[\"Time\"] - df[\"Time\"].min()"
   ]
  },
  {
   "cell_type": "code",
   "execution_count": null,
   "id": "24",
   "metadata": {},
   "outputs": [],
   "source": [
    "# Leer y combinar los subdatasets especificados en un único dataframe\n",
    "with h5py.File(datapath, 'r') as file:\n",
    "    relative_time = file['W04_Cycle0010']['relative_time'][:].squeeze()\n",
    "    Step = file['W04_Cycle0010']['Step'][:].squeeze()\n",
    "    C = file['W04_Cycle0010']['C'][:].squeeze()\n",
    "    V = file['W04_Cycle0010']['V'][:].squeeze()"
   ]
  },
  {
   "cell_type": "code",
   "execution_count": null,
   "id": "25",
   "metadata": {},
   "outputs": [],
   "source": [
    "import numpy as np\n",
    "import pandas as pd\n",
    "from scipy.interpolate import interp1d\n",
    "import matplotlib.pyplot as plt\n",
    "\n",
    "def calc_error(EV_data, PB_data, step, var, to_plot=False, interp_points=100):\n",
    "    \"\"\"\n",
    "    Calcula el error RMSE entre los datos de un vehículo eléctrico y una simulación PyBamm.\n",
    "\n",
    "    :param EV_data: DataFrame de datos del vehículo eléctrico.\n",
    "    :param PB_data: DataFrame de datos de la simulación PyBamm.\n",
    "    :param step: Paso específico para el análisis.\n",
    "    :param cycle: Ciclo específico para el análisis.\n",
    "    :param var: Variable a analizar ('C' o 'V').\n",
    "    :param to_plot: Si es True, traza las curvas de EV y PB.\n",
    "    :param interp_points: Número de puntos para la interpolación.\n",
    "    :return: RMSE normalizado por el rango de la variable.\n",
    "    \"\"\"\n",
    "    # Filtrar datos por ciclo y paso\n",
    "    compEV = EV_data[(EV_data['Step'] == step)]\n",
    "    compEV.loc[:, 'relative_time'] = compEV['relative_time'] - compEV['relative_time'].min()\n",
    "\n",
    "    \n",
    "    compPB = PB_data[(PB_data['Step'] == step)]\n",
    "    compPB.loc[:, 'relative_time'] = compPB['relative_time'] - compPB['relative_time'].min()\n",
    "\n",
    "    # Rango para normalizar la importancia de cada segmento\n",
    "    range_min = min(compPB[var].min(), compEV[var].min())\n",
    "    range_max = max(compPB[var].max(), compEV[var].max())\n",
    "    value_range = range_max - range_min\n",
    "\n",
    "    # Tiempo común entre las dos curvas\n",
    "    min_time = max(compPB['relative_time'].min(), compEV['relative_time'].min())\n",
    "    max_time = min(compPB['relative_time'].max(), compEV['relative_time'].max())\n",
    "    trunc_time = np.linspace(min_time, max_time, interp_points)\n",
    "\n",
    "    # Interpolación en el vector de tiempo común\n",
    "    interp_EV = interp1d(compEV['relative_time'], compEV[var], fill_value=\"extrapolate\")\n",
    "    interp_PB = interp1d(compPB['relative_time'], compPB[var], fill_value=\"extrapolate\")\n",
    "    EV_y = interp_EV(trunc_time)\n",
    "    PB_y = interp_PB(trunc_time)\n",
    "\n",
    "    # Calcular el error RMSE\n",
    "    calc_rmse = np.sqrt(np.mean((PB_y - EV_y) ** 2)) / value_range\n",
    "\n",
    "    # Opcional: trazar las curvas\n",
    "    if to_plot:\n",
    "        plt.figure(figsize=(10, 6))\n",
    "        plt.plot(trunc_time, EV_y, label='EV Data')\n",
    "        plt.plot(trunc_time, PB_y, label='PB Data')\n",
    "        plt.legend()\n",
    "        plt.xlabel('Relative Time')\n",
    "        plt.ylabel(var)\n",
    "        plt.title(f'Comparison of {var} over Time')\n",
    "        plt.show()\n",
    "\n",
    "    return calc_rmse"
   ]
  },
  {
   "cell_type": "code",
   "execution_count": null,
   "id": "26",
   "metadata": {},
   "outputs": [],
   "source": [
    "calc_error(df_combined, df,2,\"V\", True,10)"
   ]
  },
  {
   "cell_type": "code",
   "execution_count": null,
   "id": "27",
   "metadata": {},
   "outputs": [],
   "source": [
    "# Crear el dataframe combinado\n",
    "df_combined = pd.DataFrame({\n",
    "    'relative_time': relative_time,\n",
    "    'Step': Step,\n",
    "    'C': C,\n",
    "    'V': V\n",
    "})"
   ]
  },
  {
   "cell_type": "code",
   "execution_count": null,
   "id": "28",
   "metadata": {},
   "outputs": [],
   "source": [
    "df_combined"
   ]
  },
  {
   "cell_type": "code",
   "execution_count": null,
   "id": "29",
   "metadata": {},
   "outputs": [],
   "source": [
    "def read_cycle_from_hdf5(cycle_number, string_id, filepath):\n",
    "    \"\"\"\n",
    "    Reads and returns the DataFrame of a specific cycle from an HDF5 file.\n",
    "    \n",
    "    Parameters:\n",
    "    - cycle_number: Integer representing the cycle number to read.\n",
    "    - string_id: String ID used as part of the key to identify the cycle data.\n",
    "    - filepath: Path to the HDF5 file from which to read the data.\n",
    "    \n",
    "    Returns:\n",
    "    - A pandas DataFrame containing the data for the specified cycle, or None if the cycle data does not exist.\n",
    "    \"\"\"\n",
    "    key = f'/{string_id}_Cycle{int(cycle_number):04d}'\n",
    "    print(key)\n",
    "    try:\n",
    "        cycle_data = pd.read_hdf(filepath, key=key)\n",
    "        return cycle_data\n",
    "    except KeyError:\n",
    "        print(f\"No data found for cycle {cycle_number} with ID '{string_id}' in the file.\")\n",
    "        return None\n"
   ]
  }
 ],
 "metadata": {
  "kernelspec": {
   "display_name": "Python 3 (ipykernel)",
   "language": "python",
   "name": "python3"
  },
  "language_info": {
   "codemirror_mode": {
    "name": "ipython",
    "version": 3
   },
   "file_extension": ".py",
   "mimetype": "text/x-python",
   "name": "python",
   "nbconvert_exporter": "python",
   "pygments_lexer": "ipython3",
   "version": "3.11.5"
  }
 },
 "nbformat": 4,
 "nbformat_minor": 5
}

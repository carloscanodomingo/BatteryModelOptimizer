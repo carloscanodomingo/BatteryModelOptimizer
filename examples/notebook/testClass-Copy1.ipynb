{
 "cells": [
  {
   "cell_type": "code",
   "execution_count": null,
   "id": "0",
   "metadata": {},
   "outputs": [],
   "source": [
    "import logging\n",
    "import os\n",
    "import queue\n",
    "import signal\n",
    "import sys\n",
    "import traceback\n",
    "from multiprocessing import Process, Queue\n",
    "\n",
    "import click\n",
    "import pybamm\n",
    "from core import ModelParameters\n",
    "from core.Parameters.DegradationParameters import DegradationParameters\n",
    "from core.Parameters.NonDegradationParameters import NonDegradationParameters\n",
    "from core.PyBammWrapper import PyBammWrapper\n",
    "from core.utils import *\n",
    "from core.utils import get_log_path\n",
    "from databases.DatasetEV import BatteryIDEV\n",
    "logging.basicConfig(level=logging.DEBUG, format='%(asctime)s - %(levelname)s - %(message)s')\n",
    "import os\n",
    "%load_ext autoreload\n",
    "%autoreload 2"
   ]
  },
  {
   "cell_type": "code",
   "execution_count": null,
   "id": "1",
   "metadata": {},
   "outputs": [],
   "source": [
    "import os\n",
    "os.getenv(\"PYBAMM_RESULTS_PATH\")"
   ]
  },
  {
   "cell_type": "code",
   "execution_count": null,
   "id": "2",
   "metadata": {},
   "outputs": [],
   "source": [
    "dataset_path = \"EV_DATAPATH\"\n",
    "result_path = \"RESULT_PATH\"\n",
    "inputs_path = \"INPUTS_PATH\"\n",
    "id_dataset = \"EV\"\n",
    "id_battery = \"W04\"\n",
    "seed  = 1\n",
    "id_instance = 100\n",
    "n_cycles_per_experiments = 2\n",
    "n_experiments = 2\n",
    "id_configuration = 53\n",
    "seed = 123456789"
   ]
  },
  {
   "cell_type": "code",
   "execution_count": null,
   "id": "3",
   "metadata": {},
   "outputs": [],
   "source": [
    "parameter_dataset = \"param.json\"\n",
    "dataset_path = os.environ.get(dataset_path)\n",
    "result_path = os.environ.get(result_path)\n",
    "save_result_path = f\"{result_path}/{seed}\"\n",
    "\n",
    "inputs_path = os.getenv(inputs_path)\n",
    "\n",
    "\n",
    "# Create a dictionary to easily map variable names to their values\n",
    "env_vars = {\n",
    "    \"dataset_path\": dataset_path,\n",
    "    \"inputs_path\": inputs_path,\n",
    "    \"result_path\": result_path,\n",
    "}\n",
    "\n",
    "# Check each environment variable and collect the names of those that are not set\n",
    "missing_vars = [\n",
    "    var_name for var_name, var_value in env_vars.items() if var_value is None\n",
    "]\n",
    "\n",
    "if missing_vars:\n",
    "    # Raise an error with the names of the missing environment variables\n",
    "    missing_vars_str = \", \".join(\n",
    "        missing_vars\n",
    "    )  # Join the list of missing variable names into a string\n",
    "    raise ValueError(\n",
    "        f\"Required environment variable(s) not set: {missing_vars_str}\"\n",
    "    )\n",
    "\n",
    "# Ensure common folder exists\n",
    "common_folder_path = ensure_common_folder_exists(\n",
    "    inputs_path, id_dataset, id_battery\n",
    ")\n",
    "\n",
    "result_path = get_result_path(\n",
    "    common_folder_path, id_configuration=id_configuration)\n",
    "\n",
    "state_path = get_state_path(\n",
    "    common_folder_path, id_configuration=id_configuration)\n",
    "\n",
    "log_path = get_log_path(\n",
    "    common_folder_path, id_configuration=id_configuration)\n",
    "\n",
    "\n",
    "print(common_folder_path, dataset_path, result_path, inputs_path)\n"
   ]
  },
  {
   "cell_type": "code",
   "execution_count": null,
   "id": "4",
   "metadata": {},
   "outputs": [],
   "source": [
    "logging.basicConfig(\n",
    "    level=logging.INFO,\n",
    "    format=\"%(asctime)s - %(levelname)s - %(message)s\",\n",
    ")"
   ]
  },
  {
   "cell_type": "code",
   "execution_count": null,
   "id": "5",
   "metadata": {},
   "outputs": [],
   "source": [
    "\"\"\"\n",
    "Initializes model parameters and PyBaMM wrapper for the simulation.\n",
    "\"\"\"\n",
    "#parameter_file_path = \"/home/ccanodom/data/PyBamm/41_param.json\"\n",
    "parameter_file_path = \"/home/ccanodom/dev/nextbat_ai/phase_1/param_test/no_degradation.json\"\n",
    "external_param = pybamm.ParameterValues(\"OKane2022\")\n",
    "model_parameters = ModelParameters.ModelParameters(\n",
    "    file_path=parameter_file_path, external_param=external_param)"
   ]
  },
  {
   "cell_type": "code",
   "execution_count": null,
   "id": "6",
   "metadata": {
    "tags": []
   },
   "outputs": [],
   "source": [
    "os.environ[\"EV_DATAPATH\"]"
   ]
  },
  {
   "cell_type": "code",
   "execution_count": null,
   "id": "7",
   "metadata": {
    "tags": []
   },
   "outputs": [],
   "source": [
    "model_parameters.degradation_parameters = None"
   ]
  },
  {
   "cell_type": "code",
   "execution_count": null,
   "id": "8",
   "metadata": {},
   "outputs": [],
   "source": [
    "current_pybamm = PyBammWrapper(\n",
    "    id_configuration=id_configuration,\n",
    "    seed=seed,\n",
    "    dataset_path=dataset_path,\n",
    "    result_path=result_path,\n",
    "    state_path=state_path,\n",
    "    instance_id=id_instance,\n",
    "    id_dataset=id_dataset,\n",
    "    id_battery=id_battery,\n",
    "    model_parameters=model_parameters,\n",
    ")\n",
    "os.environ[\"PYBAMM_TO_PLOT\"] = \"1\"\n",
    "sol =  None\n",
    "current_pybamm.initialize_state()\n"
   ]
  },
  {
   "cell_type": "code",
   "execution_count": null,
   "id": "9",
   "metadata": {
    "tags": []
   },
   "outputs": [],
   "source": [
    "results = current_pybamm.run_pybamm(6)"
   ]
  },
  {
   "cell_type": "code",
   "execution_count": null,
   "id": "10",
   "metadata": {},
   "outputs": [],
   "source": [
    "for i in range(0,400):\n",
    "    print(f\"Cycle {i}\")\n",
    "    results = current_pybamm.run_pybamm(i)"
   ]
  },
  {
   "cell_type": "code",
   "execution_count": null,
   "id": "11",
   "metadata": {},
   "outputs": [],
   "source": [
    "for i in range(25,400):\n",
    "    print(f\"Cycle {i}\")\n",
    "    results = current_pybamm.run_pybamm(i)\n"
   ]
  },
  {
   "cell_type": "code",
   "execution_count": null,
   "id": "12",
   "metadata": {},
   "outputs": [],
   "source": [
    "results = current_pybamm.run_pybamm(0)"
   ]
  },
  {
   "cell_type": "code",
   "execution_count": null,
   "id": "13",
   "metadata": {},
   "outputs": [],
   "source": [
    "results"
   ]
  },
  {
   "cell_type": "code",
   "execution_count": null,
   "id": "14",
   "metadata": {},
   "outputs": [],
   "source": [
    "results.plot()"
   ]
  },
  {
   "cell_type": "code",
   "execution_count": null,
   "id": "15",
   "metadata": {},
   "outputs": [],
   "source": [
    "\n",
    "non_degradation_params = NonDegradationParameters()\n",
    "degradation_params = DegradationParameters()\n",
    "model_parameters = ModelParameters(non_degradation_params, None)\n",
    "dataset_id = get_dataset_id(dataset_id)\n",
    "battery_id = get_battery_by_name(battery_id)\n",
    "dataset_path = os.environ.get(dataset_path)\n",
    "result_path = os.environ.get(result_path)\n",
    "save_result_path = f\"{result_path}/{seed}\"\n",
    "current_pybamm = PyBammWrapper.PyBammWrapper(\n",
    "    dataset_path=dataset_path,\n",
    "    result_path=save_result_path,\n",
    "    id_configuration=id_configuration,\n",
    "    instance_id=id_instance,\n",
    "    dataset_id=dataset_id,\n",
    "    battery_id=battery_id,\n",
    "    seed = seed,\n",
    "    n_cycles_per_experiments=n_cycles_per_experiments,\n",
    ")\n",
    "if dataset_path is None:\n",
    "    print(f\"Dataset path is not a valid environmental variable\")\n",
    "if os.path.isfile(dataset_path) is False:\n",
    "    print(f\"Dataset path is not a file path - {dataset_path}\")\n",
    "\n",
    "current_pybamm.initiate_param(model_parameters)\n",
    "current_pybamm.initiate_model()\n",
    "current_pybamm.initiate_var_pts()\n",
    "current_pybamm.initiate_solver(atol=1e-3, rtol=1e-3)\n",
    "current_pybamm.initiate_experiment()\n",
    "current_pybamm.add_custom_variables()\n"
   ]
  },
  {
   "cell_type": "code",
   "execution_count": null,
   "id": "16",
   "metadata": {},
   "outputs": [],
   "source": [
    "solution = current_pybamm.run_pybamm_non_degradation(0)"
   ]
  },
  {
   "cell_type": "code",
   "execution_count": null,
   "id": "17",
   "metadata": {},
   "outputs": [],
   "source": [
    "for i in range(1,6):\n",
    "    print(f\"metric of cycle {i} is {current_pybamm.run_pybamm_non_degradation(i)}\")\n",
    "    "
   ]
  },
  {
   "cell_type": "code",
   "execution_count": null,
   "id": "18",
   "metadata": {},
   "outputs": [],
   "source": [
    "solution = current_pybamm.run_pybamm_non_degradation(7)"
   ]
  },
  {
   "cell_type": "code",
   "execution_count": null,
   "id": "19",
   "metadata": {},
   "outputs": [],
   "source": [
    "solution"
   ]
  },
  {
   "cell_type": "code",
   "execution_count": null,
   "id": "20",
   "metadata": {},
   "outputs": [],
   "source": [
    "from databases.DatasetEV import calc_error_non_degradation, get_df_simulated, get_df_experimental, get_metrics_non_degradation\n",
    "df_exp = get_df_experimental(battery_id, \"/home/ccanodom/data/EV_battery/battery.h5\", 0)"
   ]
  },
  {
   "cell_type": "code",
   "execution_count": null,
   "id": "21",
   "metadata": {},
   "outputs": [],
   "source": [
    "np.sum(df_exp[\"Step\"] == 1)"
   ]
  },
  {
   "cell_type": "code",
   "execution_count": null,
   "id": "22",
   "metadata": {},
   "outputs": [],
   "source": [
    "df_sim = get_df_simulated(solution)\n",
    "df_sim"
   ]
  },
  {
   "cell_type": "code",
   "execution_count": null,
   "id": "23",
   "metadata": {},
   "outputs": [],
   "source": [
    "metric = calc_error_non_degradation(df_exp, df_sim, 4, \"C\")\n",
    "print(metric)"
   ]
  },
  {
   "cell_type": "code",
   "execution_count": null,
   "id": "24",
   "metadata": {},
   "outputs": [],
   "source": [
    "var = \"C\"\n",
    "from scipy.interpolate import interp1d\n",
    "\n",
    "interp_EV = interp1d(df_exp[\"relative_time\"], df_exp[var])\n"
   ]
  },
  {
   "cell_type": "code",
   "execution_count": null,
   "id": "25",
   "metadata": {},
   "outputs": [],
   "source": [
    "get_metrics_non_degradation(battery_id, dataset_path, cycle_number=0, solution=solution)"
   ]
  },
  {
   "cell_type": "code",
   "execution_count": null,
   "id": "26",
   "metadata": {},
   "outputs": [],
   "source": [
    "time"
   ]
  },
  {
   "cell_type": "code",
   "execution_count": null,
   "id": "27",
   "metadata": {},
   "outputs": [],
   "source": [
    "df = PyBammWrapper.read_cycle_from_hdf5(10, \"W04\", os.getenv(\"PYBAMM_RESULTS_PATH\") + \"/1\")"
   ]
  },
  {
   "cell_type": "code",
   "execution_count": null,
   "id": "28",
   "metadata": {},
   "outputs": [],
   "source": [
    "import pickle\n",
    "import h5py\n",
    "import numpy as np\n",
    "serialized_object = pickle.dumps(results.last_state)\n",
    "# Save the serialized bytes to an HDF5 file\n",
    "with h5py.File('compressed_data.hdf5', 'w') as hdf:\n",
    "    # Create a dataset with LZF compression\n",
    "    hdf.create_dataset('compressed_dataset', data=np.void(serialized_object), compression='lzf')"
   ]
  },
  {
   "cell_type": "code",
   "execution_count": null,
   "id": "29",
   "metadata": {},
   "outputs": [],
   "source": [
    "with open('my_object.pickle', 'wb') as file_handle:\n",
    "    pickle.dump(results.last_state, file_handle)"
   ]
  },
  {
   "cell_type": "code",
   "execution_count": null,
   "id": "30",
   "metadata": {},
   "outputs": [],
   "source": [
    "df[df[\"Step\"] == 5].plot(x = \"Time\", y = [\"V\"])"
   ]
  },
  {
   "cell_type": "code",
   "execution_count": null,
   "id": "31",
   "metadata": {},
   "outputs": [],
   "source": [
    "df_simulated[\"relative_time\"] = df_simulated.Time - min(df_simulated.Time)"
   ]
  },
  {
   "cell_type": "code",
   "execution_count": null,
   "id": "32",
   "metadata": {},
   "outputs": [],
   "source": [
    "from databases.DatasetEV import get_fit_linear_metric, get_df_experimental,fit_udds_profile_linear, BatteryIDEV, ResultFit, get_integral_metric, get_integral_value\n",
    "from scipy.optimize import curve_fit\n",
    "import numpy as np\n",
    "import pandas as pd\n",
    "to_plot = True\n",
    "\n",
    "df_simulated = pd.read_csv(\"here.csv\")\n",
    "df_simulated[\"relative_time\"] = df_simulated.Time - min(df_simulated.Time)\n",
    "datapath = \"/home/ccanodom/data/EV_battery/test.h5\"\n",
    "df_experimental_W04 = get_df_experimental(BatteryIDEV.W04, datapath,10)\n",
    "df_experimental_W10 = get_df_experimental(BatteryIDEV.W10, datapath,10)\n",
    "print(f\"Metric with W04 = {get_integral_metric(df_experimental_W04, df_simulated)}\\tMetric with W10 = {get_integral_metric(df_experimental_W10, df_simulated)}\")"
   ]
  },
  {
   "cell_type": "code",
   "execution_count": null,
   "id": "33",
   "metadata": {},
   "outputs": [],
   "source": [
    "get_integral_value(df_experimental_W04, df_simulated, 1, True)"
   ]
  },
  {
   "cell_type": "code",
   "execution_count": null,
   "id": "34",
   "metadata": {},
   "outputs": [],
   "source": [
    "get_integral_value(df_experimental_W10, df_simulated, 1, True)"
   ]
  },
  {
   "cell_type": "code",
   "execution_count": null,
   "id": "35",
   "metadata": {},
   "outputs": [],
   "source": [
    "from scipy.integrate import trapz\n",
    "\n",
    "df = df_experimental_W04"
   ]
  },
  {
   "cell_type": "code",
   "execution_count": null,
   "id": "36",
   "metadata": {},
   "outputs": [],
   "source": [
    "a = fit_udds_profile_linear(df_experimental_W04, True)"
   ]
  },
  {
   "cell_type": "code",
   "execution_count": null,
   "id": "37",
   "metadata": {},
   "outputs": [],
   "source": [
    "a = fit_udds_profile_linear(df_simulated, True)"
   ]
  },
  {
   "cell_type": "code",
   "execution_count": null,
   "id": "38",
   "metadata": {},
   "outputs": [],
   "source": [
    "get_fit_linear_metric(df_experimental_W04, df_simulated)"
   ]
  },
  {
   "cell_type": "code",
   "execution_count": null,
   "id": "39",
   "metadata": {},
   "outputs": [],
   "source": [
    "step_ussd = 5\n",
    "# Filter data by step\n",
    "selected_df = df[df[\"Step\"] == step_ussd].copy()\n",
    "selected_df.loc[:, \"relative_time\"] = (\n",
    "    selected_df[\"relative_time\"] - selected_df[\"relative_time\"].min()\n",
    ")\n",
    "\n",
    "# Extraer datos\n",
    "x = selected_df[\"relative_time\"].values\n",
    "V = selected_df[\"V\"].values\n",
    "C = selected_df[\"C\"].values\n",
    "\n",
    "# Definir el modelo personalizado\n",
    "def custom_model(x_I, a, b, k):\n",
    "    x, I = x_I\n",
    "    return a * x + b + k * I\n",
    "\n",
    "# Ajustar el modelo\n",
    "popt, pcov = curve_fit(custom_model, (x, C), V, maxfev=10000)\n",
    "V_fit = custom_model((x, C), *popt)\n",
    "# Calcular R^2\n",
    "ss_res = np.sum((V - V_fit) ** 2)\n",
    "ss_tot = np.sum((V - np.mean(V)) ** 2)\n",
    "r_squared = 1 - (ss_res / ss_tot)\n",
    "# Mostrar los coeficientes\n",
    "print(\"Coefficients (a, b, k):\")\n",
    "print(popt)\n",
    "if to_plot:\n",
    "\n",
    "    # Graficar los datos originales y el ajuste\n",
    "    plt.figure()\n",
    "    plt.plot(x, custom_model((x, C), *popt), \"--r\", label=\"V Fit\")\n",
    "    plt.plot(x, V, \"-b\", label=\"V Original\")\n",
    "    plt.legend()\n",
    "    plt.xlabel(\"x\")\n",
    "    plt.ylabel(\"V\")\n",
    "    plt.title(\"Polynomial Fit of V = a*x + b + k*I - p * x^-n\")\n",
    "    plt.show()\n",
    "result_fit = ResultFit(\n",
    "    rsquared=r_squared, parameters={\"a\": popt[0], \"b\": popt[1], \"k\": popt[2]}\n",
    ")\n",
    "result_fit"
   ]
  },
  {
   "cell_type": "code",
   "execution_count": null,
   "id": "40",
   "metadata": {},
   "outputs": [],
   "source": [
    "pcov"
   ]
  },
  {
   "cell_type": "code",
   "execution_count": null,
   "id": "41",
   "metadata": {},
   "outputs": [],
   "source": [
    "popt"
   ]
  },
  {
   "cell_type": "code",
   "execution_count": null,
   "id": "42",
   "metadata": {},
   "outputs": [],
   "source": [
    "os.getenv(dataset_path)"
   ]
  },
  {
   "cell_type": "code",
   "execution_count": null,
   "id": "43",
   "metadata": {},
   "outputs": [],
   "source": [
    "f\"/{string_id}_Cycle{cycle:04d}\""
   ]
  },
  {
   "cell_type": "code",
   "execution_count": null,
   "id": "44",
   "metadata": {},
   "outputs": [],
   "source": [
    "string_id = \"decay\"\n",
    "cycle = 10.0"
   ]
  },
  {
   "cell_type": "code",
   "execution_count": null,
   "id": "45",
   "metadata": {},
   "outputs": [],
   "source": [
    "f\"/{string_id}_Cycle{int(cycle):04d}\""
   ]
  },
  {
   "cell_type": "code",
   "execution_count": null,
   "id": "46",
   "metadata": {},
   "outputs": [],
   "source": []
  },
  {
   "cell_type": "code",
   "execution_count": null,
   "id": "47",
   "metadata": {},
   "outputs": [],
   "source": [
    "def read_cycle_from_hdf5(cycle_number, string_id, filepath):\n",
    "    \"\"\"\n",
    "    Reads and returns the DataFrame of a specific cycle from an HDF5 file.\n",
    "    \n",
    "    Parameters:\n",
    "    - cycle_number: Integer representing the cycle number to read.\n",
    "    - string_id: String ID used as part of the key to identify the cycle data.\n",
    "    - filepath: Path to the HDF5 file from which to read the data.\n",
    "    \n",
    "    Returns:\n",
    "    - A pandas DataFrame containing the data for the specified cycle, or None if the cycle data does not exist.\n",
    "    \"\"\"\n",
    "    key = f'/{string_id}_Cycle{int(cycle_number):04d}'\n",
    "    print(key)\n",
    "    try:\n",
    "        cycle_data = pd.read_hdf(filepath, key=key)\n",
    "        return cycle_data\n",
    "    except KeyError:\n",
    "        print(f\"No data found for cycle {cycle_number} with ID '{string_id}' in the file.\")\n",
    "        return None\n"
   ]
  }
 ],
 "metadata": {
  "kernelspec": {
   "display_name": "bms",
   "language": "python",
   "name": "bms"
  },
  "language_info": {
   "codemirror_mode": {
    "name": "ipython",
    "version": 3
   },
   "file_extension": ".py",
   "mimetype": "text/x-python",
   "name": "python",
   "nbconvert_exporter": "python",
   "pygments_lexer": "ipython3",
   "version": "3.9.18"
  }
 },
 "nbformat": 4,
 "nbformat_minor": 5
}

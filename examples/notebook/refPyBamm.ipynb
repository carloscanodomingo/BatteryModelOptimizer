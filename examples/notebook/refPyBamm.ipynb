{
 "cells": [
  {
   "cell_type": "markdown",
   "id": "0",
   "metadata": {},
   "source": [
    "# Modelling coupled degradation mechanisms in PyBaMM\n",
    "\n",
    "This notebook shows how to set up a PyBaMM model in which many degradation mechanisms run at the same time and interact with one another."
   ]
  },
  {
   "cell_type": "code",
   "execution_count": null,
   "id": "1",
   "metadata": {},
   "outputs": [],
   "source": [
    "%pip install \"pybamm[plot,cite]\" -q    # install PyBaMM if it is not installed\n",
    "import pybamm\n",
    "import matplotlib.pyplot as plt\n",
    "import pandas as pd\n",
    "import bokeh.io\n",
    "from functools import partial\n",
    "import pybamm\n",
    "import numpy as np\n",
    "%load_ext autoreload\n",
    "%autoreload 2\n",
    "# this is here only for completeness to clarify where\n",
    "# the methods are nested (you probably already imported this earlier)\n",
    "bokeh.io.reset_output()\n",
    "bokeh.io.output_notebook()\n"
   ]
  },
  {
   "cell_type": "code",
   "execution_count": null,
   "id": "2",
   "metadata": {},
   "outputs": [],
   "source": [
    "model = pybamm.lithium_ion.DFN(\n",
    "    {\n",
    "        \"SEI\": \"solvent-diffusion limited\",\n",
    "        \"SEI porosity change\": \"true\",\n",
    "        \"lithium plating\": \"partially reversible\",\n",
    "        \"lithium plating porosity change\": \"true\",  # alias for \"SEI porosity change\"\n",
    "        \"particle mechanics\": (\"swelling and cracking\", \"swelling only\"),\n",
    "        \"SEI on cracks\": \"true\",\n",
    "        \"loss of active material\": \"stress-driven\",\n",
    "        \"calculate discharge energy\": \"true\",  # for compatibility with older PyBaMM versions\n",
    "    }\n",
    ")"
   ]
  },
  {
   "cell_type": "code",
   "execution_count": null,
   "id": "3",
   "metadata": {},
   "outputs": [],
   "source": [
    "param = pybamm.ParameterValues(\"OKane2022\")\n",
    "var_pts = {\n",
    "    \"x_n\": 5,  # negative electrode\n",
    "    \"x_s\": 5,  # separator\n",
    "    \"x_p\": 5,  # positive electrode\n",
    "    \"r_n\": 30,  # negative particle\n",
    "    \"r_p\": 30,  # positive particle\n",
    "}\n",
    "\n",
    "model.variables[\"SoC\"] = model.variables[\n",
    "    \"Discharge capacity [A.h]\"\n",
    "] / param['Nominal cell capacity [A.h]']\n",
    "\n",
    "#param.update({\"Lower voltage cut-off [V]\": 3.6})\n",
    "param.update({\"SEI kinetic rate constant [m.s-1]\": 1e-2})\n",
    "nominal_cell_capacity = param['Nominal cell capacity [A.h]']"
   ]
  },
  {
   "cell_type": "markdown",
   "id": "4",
   "metadata": {},
   "source": [
    "Depending on the parameter set being used, the particle cracking model can require a large number of mesh points inside the particles to be numerically stable."
   ]
  },
  {
   "cell_type": "markdown",
   "id": "5",
   "metadata": {},
   "source": [
    "Define a cycling protocol and solve. The protocol from O'Kane et al. [10] is used here, except with 10 ageing cycles instead of 1000."
   ]
  },
  {
   "cell_type": "code",
   "execution_count": null,
   "id": "6",
   "metadata": {},
   "outputs": [],
   "source": [
    "N = 30 # number or repetitions\n",
    "df = pd.read_csv(\"ussd.txt\", sep=\"\\t\")\n",
    "df.power = (df.power / df.power.mean()) * 0.1\n",
    "\n",
    "df = pd.concat([df]*N, ignore_index=True)\n",
    "\n",
    "df.power = df.power \n",
    "t = df.index\n",
    "drive_cycle_power = np.column_stack([t, df.power])"
   ]
  },
  {
   "cell_type": "code",
   "execution_count": null,
   "id": "7",
   "metadata": {},
   "outputs": [],
   "source": [
    "N = 30 # number or repetitions\n",
    "import pandas as pd\n",
    "df = pd.read_csv(\"udds_current.csv\")"
   ]
  },
  {
   "cell_type": "code",
   "execution_count": null,
   "id": "8",
   "metadata": {},
   "outputs": [],
   "source": [
    "df = pd.concat([df]*N, ignore_index=True)\n",
    "\n",
    "drive_cycle_power = np.column_stack([df.index, -df.C ])\n",
    "t = df.index\n",
    "cycle_number = 1"
   ]
  },
  {
   "cell_type": "code",
   "execution_count": null,
   "id": "9",
   "metadata": {},
   "outputs": [],
   "source": [
    "\n",
    "def SoC_termination(threshold):\n",
    "    SoC_init = 1\n",
    "    def SoC(variables):\n",
    "        return (SoC_init - variables[\"SoC\"]) - threshold\n",
    "        \n",
    "    return pybamm.step.CustomTermination(\n",
    "        name=f\"State of Charge Threshold {threshold}\", \n",
    "        event_function=SoC\n",
    "    )"
   ]
  },
  {
   "cell_type": "code",
   "execution_count": null,
   "id": "10",
   "metadata": {},
   "outputs": [],
   "source": [
    "std_exp = pybamm.Experiment(\n",
    "    [\n",
    "        \"Hold at 4.2 V until C/100 (5 minute period)\",\n",
    "        \"Rest for 4 hours (5 minute period)\",\n",
    "        \"Discharge at 0.1C until 2.5 V (5 minute period)\",  # initial capacity check\n",
    "        \"Charge at 0.3C until 4.2 V (5 minute period)\",\n",
    "        \"Hold at 4.2 V until C/100 (5 minute period)\",\n",
    "    ]\n",
    "    + [\n",
    "        (\n",
    "            \"Charge at 1C until 4 V\",\n",
    "            \"Hold at 4 V until 50 mA\",\n",
    "            \"Charge at C/4 until 4.2 V\",\n",
    "            \"Hold at 4.2 V until 50 mA\",\n",
    "            pybamm.step.c_rate(0.25, termination = SoC_termination(0.8)),\n",
    "            pybamm.step.current(drive_cycle_power, termination = SoC_termination(0.2)),\n",
    "        )\n",
    "    ]\n",
    "    * cycle_number\n",
    "    #+ [\"Discharge at 0.1C until 2.5 V (5 minute period)\"],  # final capacity check\n",
    ")"
   ]
  },
  {
   "cell_type": "code",
   "execution_count": null,
   "id": "11",
   "metadata": {},
   "outputs": [],
   "source": [
    "# load solvers\n",
    "pybamm.set_logging_level(\"NOTICE\")\n",
    "safe_solver = pybamm.CasadiSolver( mode=\"safe\")\n",
    "\n",
    "# create simulations\n",
    "safe_sim = pybamm.Simulation(model, parameter_values=param, experiment=std_exp, var_pts=var_pts, solver=safe_solver)\n",
    "\n",
    "# solve\n",
    "sol = safe_sim.solve(showprogress= True, initial_soc= 1)\n"
   ]
  },
  {
   "cell_type": "code",
   "execution_count": null,
   "id": "12",
   "metadata": {},
   "outputs": [],
   "source": [
    "from core import Wrap_PyBamm\n",
    "\n",
    "df = Wrap_PyBamm.get_important_var(sol)"
   ]
  },
  {
   "cell_type": "code",
   "execution_count": null,
   "id": "13",
   "metadata": {},
   "outputs": [],
   "source": [
    "\n",
    "import plotly.express as px\n",
    "\n",
    "px.line(df.reset_index(), x=f\"Time\", y=f\"V\", color=f\"Cycle\",height=900)"
   ]
  },
  {
   "cell_type": "code",
   "execution_count": null,
   "id": "14",
   "metadata": {},
   "outputs": [],
   "source": [
    "\n",
    "px.line(df.reset_index(), x=f\"Time\", y=f\"C\", color=f\"Cycle\",height=900)"
   ]
  },
  {
   "cell_type": "code",
   "execution_count": null,
   "id": "15",
   "metadata": {},
   "outputs": [],
   "source": [
    "from core import run_iterative_decay\n",
    "run_iterative_decay(30, "
   ]
  },
  {
   "cell_type": "markdown",
   "id": "16",
   "metadata": {},
   "source": [
    "### TESTING RTOL"
   ]
  },
  {
   "cell_type": "code",
   "execution_count": null,
   "id": "17",
   "metadata": {},
   "outputs": [],
   "source": [
    "safe_sim = pybamm.Simulation(model, parameter_values=param, experiment=exp, var_pts=var_pts, solver=safe_solver)\n",
    "for rtol in [3, 4, 5, 6, 7]:\n",
    "    safe_sol = safe_sim.solve(\n",
    "        solver=pybamm.CasadiSolver(rtol =np.power(10.0,-rtol), mode=\"safe\"),initial_soc=1\n",
    "    )\n",
    "    print(\n",
    "        f\"With rtol={rtol}, took {safe_sol.solve_time} \"\n",
    "        + f\"(integration time: {safe_sol.integration_time})\"\n",
    "    )\n"
   ]
  },
  {
   "cell_type": "markdown",
   "id": "18",
   "metadata": {},
   "source": [
    "### TESTING ATOL"
   ]
  },
  {
   "cell_type": "code",
   "execution_count": null,
   "id": "19",
   "metadata": {},
   "outputs": [],
   "source": [
    "safe_sim = pybamm.Simulation(model, parameter_values=param, experiment=exp, var_pts=var_pts, solver=safe_solver)\n",
    "for atol in [3, 4, 5, 6, 7]:\n",
    "    safe_sol = safe_sim.solve(\n",
    "        solver=pybamm.CasadiSolver(atol =np.power(10.0,-atol), mode=\"safe\"),initial_soc=1\n",
    "    )\n",
    "    print(\n",
    "        f\"With atol={rtol}, took {safe_sol.solve_time} \"\n",
    "        + f\"(integration time: {safe_sol.integration_time})\"\n",
    "    )\n"
   ]
  },
  {
   "cell_type": "markdown",
   "id": "20",
   "metadata": {},
   "source": [
    "### TESTING ATOL AND RTOL"
   ]
  },
  {
   "cell_type": "code",
   "execution_count": null,
   "id": "21",
   "metadata": {},
   "outputs": [],
   "source": [
    "safe_sim = pybamm.Simulation(model, parameter_values=param, experiment=exp, var_pts=var_pts, solver=safe_solver)\n",
    "for tol in [3, 4, 5, 6, 7]:\n",
    "    safe_sol = safe_sim.solve(\n",
    "        solver=pybamm.CasadiSolver(atol =np.power(10.0,-tol), rtol =np.power(10.0,-tol), mode=\"safe\"),initial_soc=1\n",
    "    )\n",
    "    print(\n",
    "        f\"With atol, rtol={tol}, took {safe_sol.solve_time} \"\n",
    "        + f\"(integration time: {safe_sol.integration_time})\"\n",
    "    )"
   ]
  },
  {
   "cell_type": "markdown",
   "id": "22",
   "metadata": {},
   "source": [
    "### Testing DT MAX TIME"
   ]
  },
  {
   "cell_type": "code",
   "execution_count": null,
   "id": "23",
   "metadata": {},
   "outputs": [],
   "source": [
    "safe_sim = pybamm.Simulation(model, parameter_values=param, experiment=exp, var_pts=var_pts, solver=safe_solver)\n",
    "for dt_max in [600, 6000, 60000, 600000]:\n",
    "    safe_sol = safe_sim.solve(\n",
    "        solver=pybamm.CasadiSolver(mode=\"safe\", dt_max=dt_max),initial_soc=1\n",
    "    )\n",
    "    print(\n",
    "        f\"With dt_max={dt_max}, took {safe_sol.solve_time} \"\n",
    "        + f\"(integration time: {safe_sol.integration_time})\"\n",
    ")\n"
   ]
  },
  {
   "cell_type": "markdown",
   "id": "24",
   "metadata": {},
   "source": [
    "### With different Periods"
   ]
  },
  {
   "cell_type": "code",
   "execution_count": null,
   "id": "25",
   "metadata": {},
   "outputs": [],
   "source": [
    "safe_sim = pybamm.Simulation(model, parameter_values=param, experiment=exp, var_pts=var_pts, solver=safe_solver)\n",
    "safe_sol = safe_sim.solve(\n",
    "    solver=pybamm.CasadiSolver(mode=\"safe\"),initial_soc=1\n",
    ")\n",
    "print(\n",
    "    f\"With exp period default, took {safe_sol.solve_time} \"\n",
    "    + f\"(integration time: {safe_sol.integration_time})\"\n",
    ")\n",
    "safe_sim = pybamm.Simulation(model, parameter_values=param, experiment=exp10, var_pts=var_pts, solver=safe_solver)\n",
    "safe_sol = safe_sim.solve(\n",
    "    solver=pybamm.CasadiSolver(mode=\"safe\"),initial_soc=1\n",
    ")\n",
    "print(\n",
    "    f\"With exp period 10min, took {safe_sol.solve_time} \"\n",
    "    + f\"(integration time: {safe_sol.integration_time})\"\n",
    ")\n",
    "safe_sim = pybamm.Simulation(model, parameter_values=param, experiment=exp60, var_pts=var_pts, solver=safe_solver)\n",
    "safe_sol = safe_sim.solve(\n",
    "    solver=pybamm.CasadiSolver(mode=\"safe\"),initial_soc=1\n",
    ")\n",
    "print(\n",
    "    f\"With exp period 60min, took {safe_sol.solve_time} \"\n",
    "    + f\"(integration time: {safe_sol.integration_time})\"\n",
    ")\n",
    "safe_sim = pybamm.Simulation(model, parameter_values=param, experiment=exp120, var_pts=var_pts, solver=safe_solver)\n",
    "safe_sol = safe_sim.solve(\n",
    "    solver=pybamm.CasadiSolver(mode=\"safe\"),initial_soc=1\n",
    ")\n",
    "print(\n",
    "    f\"With exp period 120min, took {safe_sol.solve_time} \"\n",
    "    + f\"(integration time: {safe_sol.integration_time})\"\n",
    ")"
   ]
  },
  {
   "cell_type": "markdown",
   "id": "26",
   "metadata": {},
   "source": [
    "### Compare safe vs fast with events"
   ]
  },
  {
   "cell_type": "code",
   "execution_count": null,
   "id": "27",
   "metadata": {},
   "outputs": [],
   "source": [
    "safe_sim = pybamm.Simulation(model, parameter_values=param, experiment=exp, var_pts=var_pts, solver=safe_solver)\n",
    "safe_sol = safe_sim.solve(\n",
    "    solver=pybamm.CasadiSolver(mode=\"safe\"),initial_soc=1\n",
    ")\n",
    "print(\n",
    "    f\"With safe, took {safe_sol.solve_time} \"\n",
    "    + f\"(integration time: {safe_sol.integration_time})\"\n",
    ")\n",
    "safe_sim = pybamm.Simulation(model, parameter_values=param, experiment=exp, var_pts=var_pts, solver=safe_solver)\n",
    "safe_sol = safe_sim.solve(\n",
    "    solver=pybamm.CasadiSolver(mode=\"fast with events\"),initial_soc=1\n",
    ")\n",
    "print(\n",
    "    f\"With fast with events, took {safe_sol.solve_time} \"\n",
    "    + f\"(integration time: {safe_sol.integration_time})\"\n",
    ")\n"
   ]
  },
  {
   "cell_type": "code",
   "execution_count": null,
   "id": "28",
   "metadata": {},
   "outputs": [],
   "source": [
    "len(exp_list[6])"
   ]
  },
  {
   "cell_type": "markdown",
   "id": "29",
   "metadata": {},
   "source": [
    "### Different Experiments with cycle = 10 "
   ]
  },
  {
   "cell_type": "code",
   "execution_count": null,
   "id": "30",
   "metadata": {},
   "outputs": [],
   "source": [
    "pybamm.settings.set_smoothing_parameters(\"exact\")\n",
    "for n, exp in enumerate([exp_list[6]],1):\n",
    "    safe_sim = pybamm.Simulation(model, parameter_values=param, experiment=exp, var_pts=var_pts)\n",
    "    safe_sol = safe_sim.solve(\n",
    "        solver=pybamm.CasadiSolver(mode=\"safe\"),initial_soc=1\n",
    "    )\n",
    "    \n",
    "\n",
    "    print(\n",
    "        f\"With exp {n}, took {safe_sol.solve_time} \"\n",
    "        + f\"(integration time: {safe_sol.integration_time})\"\n",
    "    )\n"
   ]
  },
  {
   "cell_type": "markdown",
   "id": "31",
   "metadata": {},
   "source": [
    "# Finishing and Starting EXP"
   ]
  },
  {
   "cell_type": "code",
   "execution_count": null,
   "id": "32",
   "metadata": {},
   "outputs": [],
   "source": [
    "pybamm.set_logging_level(\"NOTICE\")\n",
    "N = 30 # number or repetitions\n",
    "df = pd.read_csv(\"ussd.txt\", sep=\"\\t\")\n",
    "df.power = (df.power / df.power.mean()) * 1\n",
    "\n",
    "df = pd.concat([df]*N, ignore_index=True)\n",
    "\n",
    "df.power = df.power \n",
    "t = df.index\n",
    "drive_cycle_power = np.column_stack([t, df.power])\n",
    "\n",
    "cycle_number = 10\n",
    "safe_solver = pybamm.CasadiSolver(atol=1e-3, rtol=1e-3, mode=\"safe\")\n",
    "\n",
    "main_exp =  pybamm.Experiment(\n",
    "    [(\n",
    "            \"Charge at 1C until 4 V\",\n",
    "            \"Hold at 4 V until 50 mA\",\n",
    "            \"Charge at C/4 until 4.2 V\",\n",
    "            \"Hold at 4.2 V until 50 mA\",\n",
    "            pybamm.step.c_rate(0.25, termination = SoC_termination(0.8)),\n",
    "            pybamm.step.current(drive_cycle_power, termination = SoC_termination(0.2)),\n",
    "        )] * cycle_number\n",
    "    \n",
    "    #+ [\"Discharge at 0.1C until 2.5 V (5 minute period)\"],  # final capacity check\n",
    ")\n",
    "end_exp = pybamm.Experiment([(\"Discharge at 0.1C until 2.5 V (5 minute period)\")])"
   ]
  },
  {
   "cell_type": "code",
   "execution_count": null,
   "id": "33",
   "metadata": {},
   "outputs": [],
   "source": [
    "from dataclasses import dataclass\n",
    "@dataclass\n",
    "class Experiments:\n",
    "    init: pybamm.Experiment\n",
    "    main: pybamm.Experiment\n",
    "    end: pybamm.Experiment"
   ]
  },
  {
   "cell_type": "code",
   "execution_count": null,
   "id": "34",
   "metadata": {},
   "outputs": [],
   "source": [
    "initial_exp"
   ]
  },
  {
   "cell_type": "code",
   "execution_count": null,
   "id": "35",
   "metadata": {},
   "outputs": [],
   "source": [
    "initial_exp, main_exp, end_exp = Wrap_PyBamm.define_experiment(10)"
   ]
  },
  {
   "cell_type": "code",
   "execution_count": null,
   "id": "36",
   "metadata": {},
   "outputs": [],
   "source": [
    "list_df = []\n",
    "safe_sol = None\n",
    "safe_sim = pybamm.Simulation(model, parameter_values=param, experiment=initial_exp, var_pts=var_pts, solver = safe_solver)\n",
    "new_solution = safe_sim.solve(\n",
    "    solver=pybamm.CasadiSolver(mode=\"safe\"), initial_soc=1\n",
    ")\n",
    "for i in range(1,4):\n",
    "    safe_sim = pybamm.Simulation(model, parameter_values=param, experiment=main_exp, var_pts=var_pts, solver = safe_solver)\n",
    "    safe_sol = safe_sim.solve(starting_solution = new_solution\n",
    "    )\n",
    "    print(\n",
    "        f\"With exp {i}, took {safe_sol.solve_time} \"\n",
    "        + f\"(integration time: {safe_sol.integration_time})\"\n",
    "    )\n",
    "    list_df.append(Wrap_PyBamm.get_important_var(safe_sol))\n",
    "    new_solution = safe_sol.last_state\n",
    "    safe_sol = None\n",
    "df = pd.concat(list_df)"
   ]
  },
  {
   "cell_type": "code",
   "execution_count": null,
   "id": "37",
   "metadata": {},
   "outputs": [],
   "source": [
    "import plotly.express as px\n",
    "\n",
    "px.line(list_df[1].reset_index(), x=f\"Time\", y=f\"V\", color=f\"Cycle\",height=900)"
   ]
  },
  {
   "cell_type": "code",
   "execution_count": null,
   "id": "38",
   "metadata": {},
   "outputs": [],
   "source": [
    "list_df"
   ]
  },
  {
   "cell_type": "code",
   "execution_count": null,
   "id": "39",
   "metadata": {},
   "outputs": [],
   "source": [
    "from core import Wrap_PyBamm\n",
    "df = Wrap_PyBamm.get_important_var(new_solution)\n"
   ]
  },
  {
   "cell_type": "code",
   "execution_count": null,
   "id": "40",
   "metadata": {},
   "outputs": [],
   "source": [
    "new_solution.summary_variables"
   ]
  },
  {
   "cell_type": "code",
   "execution_count": null,
   "id": "41",
   "metadata": {},
   "outputs": [],
   "source": [
    "pybamm.set_logging_level(\"NOTICE\")\n",
    "N = 30 # number or repetitions\n",
    "df = pd.read_csv(\"ussd.txt\", sep=\"\\t\")\n",
    "df.power = (df.power / df.power.mean()) * 1\n",
    "\n",
    "df = pd.concat([df]*N, ignore_index=True)\n",
    "\n",
    "df.power = df.power \n",
    "t = df.index\n",
    "drive_cycle_power = np.column_stack([t, df.power])\n",
    "\n",
    "cycle_number = 50\n",
    "safe_solver = pybamm.CasadiSolver(atol=1e-3, rtol=1e-3, mode=\"safe\")\n",
    "initial_exp = pybamm.Experiment(\n",
    "    [\n",
    "        \"Hold at 4.2 V until C/100 (5 minute period)\",\n",
    "        \"Rest for 4 hours (5 minute period)\",\n",
    "        \"Discharge at 0.1C until 2.5 V (5 minute period)\",  # initial capacity check\n",
    "        \"Charge at 0.3C until 4.2 V (5 minute period)\",\n",
    "        \"Hold at 4.2 V until C/100 (5 minute period)\",\n",
    "    ]\n",
    ")\n",
    "main_exp =  pybamm.Experiment(\n",
    "    [(\n",
    "            \"Charge at 1C until 4 V\",\n",
    "            \"Hold at 4 V until 50 mA\",\n",
    "            \"Charge at C/4 until 4.2 V\",\n",
    "            \"Hold at 4.2 V until 50 mA\",\n",
    "            pybamm.step.c_rate(0.25, termination = SoC_termination(0.8)),\n",
    "            pybamm.step.current(drive_cycle_power, termination = SoC_termination(0.2)),\n",
    "        ) * cycle_number\n",
    "    ]\n",
    "    #+ [\"Discharge at 0.1C until 2.5 V (5 minute period)\"],  # final capacity check\n",
    ")\n",
    "\n",
    "safe_sol = None\n",
    "safe_sim = pybamm.Simulation(model, parameter_values=param, experiment=initial_exp, var_pts=var_pts, solver = safe_solver)\n",
    "safe_sol = safe_sim.solve(\n",
    "    solver=pybamm.CasadiSolver(mode=\"safe\"), initial_soc=1\n",
    ")\n",
    "safe_sim = pybamm.Simulation(model, parameter_values=param, experiment=main_exp, var_pts=var_pts, solver = safe_solver)\n",
    "safe_sol = safe_sim.solve(starting_solution = safe_sol\n",
    "    )\n",
    "print(\n",
    "        f\"With exp , took {safe_sol.solve_time} \"\n",
    "        + f\"(integration time: {safe_sol.integration_time})\"\n",
    "    )"
   ]
  },
  {
   "cell_type": "code",
   "execution_count": null,
   "id": "42",
   "metadata": {},
   "outputs": [],
   "source": [
    "new_solution = safe_sol.last_state\n",
    "\n",
    "short_exp =  pybamm.Experiment(\n",
    "    [(\n",
    "            \"Charge at 1C until 4 V\",\n",
    "            \"Hold at 4 V until 50 mA\",\n",
    "            \"Charge at C/4 until 4.2 V\",\n",
    "            \"Hold at 4.2 V until 50 mA\",\n",
    "            pybamm.step.c_rate(0.25, termination = SoC_termination(0.8)),\n",
    "            pybamm.step.current(drive_cycle_power, termination = SoC_termination(0.2)),\n",
    "        )\n",
    "    ]\n",
    "    #+ [\"Discharge at 0.1C until 2.5 V (5 minute period)\"],  # final capacity check\n",
    ")\n",
    "safe_sim = pybamm.Simulation(model, parameter_values=param, experiment=short_exp, var_pts=var_pts, solver = safe_solver)\n",
    "safe_sol = safe_sim.solve(starting_solution = new_solution\n",
    "    )\n",
    "print(\n",
    "        f\"With exp , took {safe_sol.solve_time} \"\n",
    "        + f\"(integration time: {safe_sol.integration_time})\"\n",
    "    )"
   ]
  },
  {
   "cell_type": "code",
   "execution_count": null,
   "id": "43",
   "metadata": {},
   "outputs": [],
   "source": [
    "pybamm.set_logging_level(\"WARNING\")\n",
    "cycle_number = 10\n",
    "initial_exp = pybamm.Experiment(\n",
    "    [\n",
    "        \"Hold at 4.2 V until C/100 (5 minute period)\",\n",
    "        \"Rest for 4 hours (5 minute period)\",\n",
    "        \"Discharge at 0.1C until 2.5 V (5 minute period)\",  # initial capacity check\n",
    "        \"Charge at 0.3C until 4.2 V (5 minute period)\",\n",
    "        \"Hold at 4.2 V until C/100 (5 minute period)\",\n",
    "    ]\n",
    ")\n",
    "cycle_number_exp = 10\n",
    "N = 30 # number or repetitions\n",
    "df = pd.read_csv(\"ussd.txt\", sep=\"\\t\")\n",
    "df.power = (df.power / df.power.mean()) * 0.1\n",
    "df = pd.concat([df]*N, ignore_index=True)\n",
    "df.power = df.power \n",
    "t = df.index\n",
    "drive_cycle_power = np.column_stack([t, df.power])\n",
    "exp_list = list();\n",
    "\n",
    "\n",
    "safe_solver = pybamm.CasadiSolver(atol=1e-3, rtol=1e-3, mode=\"safe\")\n",
    "\n",
    "# create simulations\n",
    "safe_sim = pybamm.Simulation(model, parameter_values=param, experiment=exp, var_pts=var_pts, solver=safe_solver)\n",
    "\n",
    "\n",
    "\n",
    "for i in range(1, 6):\n",
    "    safe_sim = pybamm.Simulation(model, parameter_values=param, experiment=exp, var_pts=var_pts, solver=safe_solver)\n",
    "    safe_sol = safe_sim.solve(initial_soc= 1)\n",
    "    print(\n",
    "            f\"With {i}, took {safe_sol.solve_time} \"\n",
    "            + f\"(integration time: {safe_sol.integration_time})\"\n",
    "        )"
   ]
  },
  {
   "cell_type": "code",
   "execution_count": null,
   "id": "44",
   "metadata": {},
   "outputs": [],
   "source": [
    "# load solvers\n",
    "safe_solver = pybamm.CasadiSolver(atol=1e-3, rtol=1e-3, mode=\"safe\")\n",
    "\n",
    "\n",
    "# create simulations\n",
    "safe_sim = pybamm.Simulation(model, parameter_values=param, experiment=exp, var_pts=var_pts, solver=safe_solver)\n",
    "\n",
    "\n",
    "# solve\n",
    "safe_sim.solve(showprogress= True, initial_soc= 1)\n",
    "print(f\"Safe mode solve time: {safe_sim.solution.solve_time}\")\n"
   ]
  },
  {
   "cell_type": "code",
   "execution_count": null,
   "id": "45",
   "metadata": {},
   "outputs": [],
   "source": [
    "pybamm.Experiment(\n",
    "        [\n",
    "            \"Hold at 4.2 V until C/100 (5 minute period)\",\n",
    "            \"Rest for 4 hours (5 minute period)\",\n",
    "            \"Discharge at 0.1C until 2.5 V (5 minute period)\",  # initial capacity check\n",
    "            \"Charge at 0.3C until 4.2 V (5 minute period)\",\n",
    "            \"Hold at 4.2 V until C/100 (5 minute period)\",\n",
    "        ]\n",
    "        + [\n",
    "            (\n",
    "                \"Charge at 1C until 4 V\",\n",
    "                \"Hold at 4 V until 50 mA\",\n",
    "                \"Charge at C/4 until 4.2 V\",\n",
    "                \"Hold at 4.2 V until 50 mA\",\n",
    "                pybamm.step.c_rate(0.25, termination = SoC_termination(0.8)),\n",
    "                pybamm.step.c_rate(drive_cycle_power, termination = SoC_termination(0.2)),\n",
    "            )\n",
    "        ]* cycle_number_exp,"
   ]
  },
  {
   "cell_type": "code",
   "execution_count": null,
   "id": "46",
   "metadata": {},
   "outputs": [],
   "source": [
    "main_exp"
   ]
  },
  {
   "cell_type": "code",
   "execution_count": null,
   "id": "47",
   "metadata": {},
   "outputs": [],
   "source": [
    "for i in range(1,6):\n",
    "    print(i)"
   ]
  },
  {
   "cell_type": "code",
   "execution_count": null,
   "id": "48",
   "metadata": {},
   "outputs": [],
   "source": [
    "from scipy.signal import savgol_filter\n",
    "yhat = savgol_filter(y, 51, 3)"
   ]
  },
  {
   "cell_type": "code",
   "execution_count": null,
   "id": "49",
   "metadata": {},
   "outputs": [],
   "source": [
    "# All smoothing parameters can be changed at once\n",
    "pybamm.settings.set_smoothing_parameters(10)\n",
    "pybamm.settings.min_max_mode = \"smooth\"\n",
    "safe_sim = pybamm.Simulation(model, parameter_values=param, experiment=exp, var_pts=var_pts, solver=safe_solver)\n",
    "safe_sol = safe_sim.solve(\n",
    "    solver=pybamm.CasadiSolver(mode=\"fast with events\"),initial_soc=1\n",
    ")\n",
    "print(\n",
    "    f\"With fast with events, took {safe_sol.solve_time} \"\n",
    "    + f\"(integration time: {safe_sol.integration_time})\"\n",
    ")"
   ]
  },
  {
   "cell_type": "code",
   "execution_count": null,
   "id": "50",
   "metadata": {},
   "outputs": [],
   "source": [
    "safe_sim = pybamm.Simulation(model, parameter_values=param, experiment=exp2, var_pts=var_pts, solver=safe_solver)"
   ]
  },
  {
   "cell_type": "code",
   "execution_count": null,
   "id": "51",
   "metadata": {},
   "outputs": [],
   "source": [
    "sim = pybamm.Simulation(model, parameter_values=param, experiment=exp, var_pts=var_pts)\n",
    "sol = sim.solve(showprogress= True, initial_soc= 1)"
   ]
  },
  {
   "cell_type": "code",
   "execution_count": null,
   "id": "52",
   "metadata": {},
   "outputs": [],
   "source": [
    "df_sol = Wrap_PyBamm.get_important_var(sol)"
   ]
  },
  {
   "cell_type": "code",
   "execution_count": null,
   "id": "53",
   "metadata": {
    "tags": []
   },
   "outputs": [],
   "source": [
    "df_sol.to_csv(\"test_degradation5.csv\")"
   ]
  },
  {
   "cell_type": "markdown",
   "id": "54",
   "metadata": {},
   "source": [
    "Three of the degradation mechanisms - SEI, lithium plating and SEI on cracks - cause loss of lithium inventory (LLI). Plotting the different contributions to LLI against throughput capacity as opposed to cycle number allows them to be considered as continuous variables as opposed to discrete ones."
   ]
  },
  {
   "cell_type": "code",
   "execution_count": null,
   "id": "55",
   "metadata": {},
   "outputs": [],
   "source": [
    "# Determine the unique cycle numbers\n",
    "cycle_numbers = df_sol[\"Cycle\"].unique()\n",
    "\n",
    "\n",
    "# Filter the DataFrame for Step = 5\n",
    "df_step_5 = df_sol[df_sol[\"Cycle\"] == 3]\n",
    "\n",
    "# Get unique cycle values, ensuring they are sorted\n",
    "cycles = np.sort(cycle_numbers)\n",
    "\n",
    "# Setup the plot\n",
    "plt.figure(figsize=(10, 6))\n",
    "\n",
    "# Colormap for gradually darker lines for higher cycle numbers\n",
    "cm = plt.get_cmap('Greys')\n",
    "colors = [cm(0.5 + 0.5 * i / len(cycles)) for i in range(len(cycles))]\n",
    "\n",
    "# Plot VoC vs SoC for each cycle\n",
    "for i, cycle in enumerate(cycles):\n",
    "    df_cycle = df_step_5[df_step_5[\"Cycle\"] == cycle]\n",
    "    plt.plot(df_cycle['SoC'], df_cycle['VoC'], label=f'Cycle {cycle}', color=colors[i])\n",
    "\n",
    "plt.xlabel('State of Charge (SoC)')\n",
    "plt.ylabel('VoC')\n",
    "plt.title('VoC vs. SoC at Step 5 Across Cycles')\n",
    "plt.legend(title='Cycle', bbox_to_anchor=(1.05, 1), loc='upper left')\n",
    "plt.tight_layout()\n",
    "plt.show()"
   ]
  },
  {
   "cell_type": "code",
   "execution_count": null,
   "id": "56",
   "metadata": {},
   "outputs": [],
   "source": [
    "from bokeh.plotting import figure, show, output_notebook\n",
    "from bokeh.palettes import Greys256\n",
    "import pandas as pd\n",
    "import numpy as np\n",
    "\n",
    "# Call output_notebook if you're in a Jupyter notebook to display plots inline\n",
    "output_notebook()"
   ]
  },
  {
   "cell_type": "code",
   "execution_count": null,
   "id": "57",
   "metadata": {},
   "outputs": [],
   "source": [
    "# Initialize the Bokeh plot\n",
    "p = figure(title=\"VoC vs. SoC at Step 5 Across Cycles\", x_axis_label='State of Charge (SoC)', y_axis_label='VoC', sizing_mode=\"stretch_width\", height=400)\n",
    "\n",
    "# Get unique cycle values, ensuring they are sorted\n",
    "cycles = np.sort(df_step_5.index.get_level_values('Cycle').unique())\n",
    "\n",
    "# Generate a subset of the Greys palette that gets darker with higher cycle numbers\n",
    "# Adjust the slice as needed to fit the number of cycles\n",
    "num_cycles = len(cycles)\n",
    "greys = Greys256[128:256:128//num_cycles]\n",
    "\n",
    "# Plot VoC vs SoC for each cycle\n",
    "for i, cycle in enumerate(cycles):\n",
    "    df_cycle = df_step_5.xs(cycle, level='Cycle')\n",
    "    p.line(df_cycle['SoC'], df_cycle['VoC'], legend_label=f'Cycle {cycle}', line_color=greys[i % len(greys)])\n",
    "\n",
    "p.legend.title = 'Cycle'\n",
    "\n",
    "# Show the plot\n",
    "show(p)"
   ]
  },
  {
   "cell_type": "code",
   "execution_count": null,
   "id": "58",
   "metadata": {},
   "outputs": [],
   "source": [
    "df_sol.filter([\"SoC\", \"VoC\"], axis = 1).set_index(\"SoC\").plot()"
   ]
  },
  {
   "cell_type": "code",
   "execution_count": null,
   "id": "59",
   "metadata": {},
   "outputs": [],
   "source": [
    "import pandas as pd\n",
    "pd.set_option('plotting.backend', 'pandas_bokeh')\n",
    "f = df_sol.filter([\"C\", \"V\", \"SoC\"]).plot_bokeh()\n"
   ]
  },
  {
   "cell_type": "code",
   "execution_count": null,
   "id": "60",
   "metadata": {},
   "outputs": [],
   "source": [
    "plt.figure()\n",
    "plt.plot(Qt, Q_SEI, label=\"SEI\", linestyle=\"dashed\")\n",
    "plt.xlabel(\"Throughput capacity [A.h]\")\n",
    "plt.ylabel(\"Total lithium capacity  [A.h]\")\n",
    "plt.legend()\n",
    "plt.show()"
   ]
  },
  {
   "cell_type": "markdown",
   "id": "61",
   "metadata": {},
   "source": [
    "The capacity loss over 10 cycles is so small that the reversible component of the lithium plating is has a larger effect than all the irreversible mechanisms combined. Most of the irreversible capacity fade that does occur is caused by SEI on cracks."
   ]
  },
  {
   "cell_type": "markdown",
   "id": "62",
   "metadata": {},
   "source": [
    "The stress-driven loss of active material (LAM) mechanism [10,11] is also included, so the three main degradation modes - LLI and LAM in each electrode - can be plotted and compared."
   ]
  },
  {
   "cell_type": "code",
   "execution_count": null,
   "id": "63",
   "metadata": {},
   "outputs": [],
   "source": [
    "Qt = sol[\"Throughput capacity [A.h]\"].entries\n",
    "LLI = sol[\"Loss of lithium inventory [%]\"].entries\n",
    "LAM_neg = sol[\"Loss of active material in negative electrode [%]\"].entries\n",
    "LAM_pos = sol[\"Loss of active material in positive electrode [%]\"].entries\n",
    "plt.figure()\n",
    "plt.plot(Qt, LLI, label=\"LLI\")\n",
    "plt.plot(Qt, LAM_neg, label=\"LAM (negative)\")\n",
    "plt.plot(Qt, LAM_pos, label=\"LAM (positive)\")\n",
    "plt.xlabel(\"Throughput capacity [A.h]\")\n",
    "plt.ylabel(\"Degradation modes [%]\")\n",
    "plt.legend()\n",
    "plt.show()"
   ]
  },
  {
   "cell_type": "markdown",
   "id": "64",
   "metadata": {},
   "source": [
    "Both the reversible and irreversible components of LLI are far greater than LAM for this parameter set."
   ]
  },
  {
   "cell_type": "markdown",
   "id": "65",
   "metadata": {},
   "source": [
    "A key internal variable is the porosity. Pore clogging by SEI, lithium plating and other means can trigger other degradation mechanisms and reduce the rate capability of the cell. If the porosity reaches zero, the cell becomes completely unusable and PyBaMM will terminate the simulation."
   ]
  },
  {
   "cell_type": "code",
   "execution_count": null,
   "id": "66",
   "metadata": {},
   "outputs": [],
   "source": [
    "eps_neg_avg = sol[\"X-averaged negative electrode porosity\"].entries\n",
    "eps_neg_sep = sol[\"Negative electrode porosity\"].entries[-1, :]\n",
    "eps_neg_CC = sol[\"Negative electrode porosity\"].entries[0, :]\n",
    "plt.figure()\n",
    "plt.plot(Qt, eps_neg_avg, label=\"Average\")\n",
    "plt.plot(Qt, eps_neg_sep, label=\"Separator\", linestyle=\"dotted\")\n",
    "plt.plot(Qt, eps_neg_CC, label=\"Current collector\", linestyle=\"dashed\")\n",
    "plt.xlabel(\"Throughput capacity [A.h]\")\n",
    "plt.ylabel(\"Negative electrode porosity\")\n",
    "plt.legend()\n",
    "plt.show()"
   ]
  },
  {
   "cell_type": "markdown",
   "id": "67",
   "metadata": {},
   "source": [
    "If you want to see some serious degradation, try re-running the simulation with more ageing cycles, or using param.update({}) to increase the degradation parameters beyond the ranges considered by O'Kane et al. [10]"
   ]
  },
  {
   "cell_type": "code",
   "execution_count": null,
   "id": "68",
   "metadata": {},
   "outputs": [],
   "source": [
    "selected_n = 1000\n",
    "Qt = sol[\"Throughput capacity [A.h]\"].entries[-selected_n:]\n",
    "\n",
    "\n",
    "Q_SEI = sol[\"Loss of capacity to negative SEI [A.h]\"].entries[-selected_n:]\n",
    "Q_SEI_cr = sol[\"Loss of capacity to negative SEI on cracks [A.h]\"].entries[-selected_n:]\n",
    "Q_plating = sol[\"Loss of capacity to negative lithium plating [A.h]\"].entries[-selected_n:]\n",
    "Q_side = sol[\"Total capacity lost to side reactions [A.h]\"].entries[-selected_n:]\n",
    "Q_LLI = (\n",
    "    sol[\"Total lithium lost [mol]\"].entries[-selected_n:] * 96485.3 / 3600\n",
    ")  # convert from mol to A.h\n",
    "plt.figure()\n",
    "plt.plot(Qt, Q_SEI, label=\"SEI\", linestyle=\"dashed\")\n",
    "plt.plot(Qt, Q_SEI_cr, label=\"SEI on cracks\", linestyle=\"dashdot\")\n",
    "plt.plot(Qt, Q_plating, label=\"Li plating\", linestyle=\"dotted\")\n",
    "plt.plot(Qt, Q_side, label=\"All side reactions\", linestyle=(0, (6, 1)))\n",
    "plt.plot(Qt, Q_LLI, label=\"All LLI\")\n",
    "plt.xlabel(\"Throughput capacity [A.h]\")\n",
    "plt.ylabel(\"Capacity loss [A.h]\")\n",
    "plt.legend()\n",
    "plt.show()"
   ]
  },
  {
   "cell_type": "code",
   "execution_count": null,
   "id": "69",
   "metadata": {},
   "outputs": [],
   "source": []
  }
 ],
 "metadata": {
  "kernelspec": {
   "display_name": "bms",
   "language": "python",
   "name": "bms"
  },
  "language_info": {
   "codemirror_mode": {
    "name": "ipython",
    "version": 3
   },
   "file_extension": ".py",
   "mimetype": "text/x-python",
   "name": "python",
   "nbconvert_exporter": "python",
   "pygments_lexer": "ipython3",
   "version": "3.9.18"
  }
 },
 "nbformat": 4,
 "nbformat_minor": 5
}
